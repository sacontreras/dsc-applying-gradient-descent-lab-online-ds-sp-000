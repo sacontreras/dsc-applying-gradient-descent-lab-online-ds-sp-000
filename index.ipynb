{
 "cells": [
  {
   "cell_type": "markdown",
   "metadata": {},
   "source": [
    "# Applying Gradient Descent - Lab\n",
    "\n",
    "## Introduction\n",
    "\n",
    "In the last lesson, we derived the functions that we help us descend along our cost functions efficiently.  Remember that this technique is not so different from what we saw with using the derivative to tell us our next step size and direction in two dimensions.  \n",
    "\n",
    "![](./images/slopes.png)\n",
    "\n",
    "When descending along our cost curve in two dimensions, we used the slope of the tangent line at each point, to tell us how large of a step to take next.  And with the cost curve being a function of $m$ and $b$, we had to use the gradient to determine each step.  \n",
    "\n",
    "<img src=\"./images/new_gradientdescent.png\" width=\"600\">\n",
    "\n",
    "But really it's an analogous approach.  Just like we can calculate the use derivative of a function $f(x)$ to calculate the slope at a given value of $x$ on the graph and thus our next step.  Here, we calculated the partial derivative with respect to both variables, our slope and y-intercept, to calculate the amount to move next in either direction and thus to steer us towards our minimum.   \n",
    "\n",
    "## Objectives\n",
    "\n",
    "You will be able to:\n",
    "* Create functions to perform a simulation of gradient descent for an actual dataset\n",
    "* Represent RSS as a multivariable function and take partial derivatives to perform gradient descent\n",
    "\n",
    "## Reviewing our gradient descent formulas\n",
    "\n",
    "Luckily for us, we already did the hard work of deriving these formulas.  Now we get to see the fruit of our labor.  The following formulas tell us how to update regression variables of $m$ and $b$ to approach a \"best fit\" line.   \n",
    "\n",
    "- $ \\frac{dJ}{dm}J(m,b) = -2\\sum_{i = 1}^n x_i(y_i - (mx_i + b)) = -2\\sum_{i = 1}^n x_i*\\epsilon_i$ \n",
    "- $ \\frac{dJ}{db}J(m,b) = -2\\sum_{i = 1}^n(y_i - (mx_i + b)) = -2\\sum_{i = 1}^n \\epsilon_i $\n",
    "\n",
    "Now the formulas above tell us to take some dataset, with values of $x$ and $y$, and then given a regression formula with values $m$ and $b$, iterate through our dataset, and use the formulas to calculate an update to $m$ and $b$.  So ultimately, to descend along the cost function, we will use the calculations:\n",
    "\n",
    "`current_m` = `old_m` $ -  (-2*\\sum_{i=1}^n x_i*\\epsilon_i )$\n",
    "\n",
    "`current_b` =  `old_b` $ - ( -2*\\sum_{i=1}^n \\epsilon_i )$\n",
    "\n",
    "Ok let's turn this into code.  First, let's initialize our data like we did before:"
   ]
  },
  {
   "cell_type": "code",
   "execution_count": 1,
   "metadata": {
    "pycharm": {
     "is_executing": false
    }
   },
   "outputs": [
    {
     "output_type": "display_data",
     "data": {
      "text/plain": "<Figure size 432x288 with 1 Axes>",
      "image/svg+xml": "<?xml version=\"1.0\" encoding=\"utf-8\" standalone=\"no\"?>\n<!DOCTYPE svg PUBLIC \"-//W3C//DTD SVG 1.1//EN\"\n  \"http://www.w3.org/Graphics/SVG/1.1/DTD/svg11.dtd\">\n<!-- Created with matplotlib (https://matplotlib.org/) -->\n<svg height=\"266.0675pt\" version=\"1.1\" viewBox=\"0 0 386.474375 266.0675\" width=\"386.474375pt\" xmlns=\"http://www.w3.org/2000/svg\" xmlns:xlink=\"http://www.w3.org/1999/xlink\">\n <defs>\n  <style type=\"text/css\">\n*{stroke-linecap:butt;stroke-linejoin:round;}\n  </style>\n </defs>\n <g id=\"figure_1\">\n  <g id=\"patch_1\">\n   <path d=\"M 0 266.0675 \nL 386.474375 266.0675 \nL 386.474375 0 \nL 0 0 \nz\n\" style=\"fill:none;\"/>\n  </g>\n  <g id=\"axes_1\">\n   <g id=\"patch_2\">\n    <path d=\"M 44.474375 224.64 \nL 379.274375 224.64 \nL 379.274375 7.2 \nL 44.474375 7.2 \nz\n\" style=\"fill:#ffffff;\"/>\n   </g>\n   <g id=\"matplotlib.axis_1\">\n    <g id=\"xtick_1\">\n     <g id=\"line2d_1\">\n      <defs>\n       <path d=\"M 0 0 \nL 0 3.5 \n\" id=\"m74f866b3e8\" style=\"stroke:#000000;stroke-width:0.8;\"/>\n      </defs>\n      <g>\n       <use style=\"stroke:#000000;stroke-width:0.8;\" x=\"104.30813\" xlink:href=\"#m74f866b3e8\" y=\"224.64\"/>\n      </g>\n     </g>\n     <g id=\"text_1\">\n      <!-- 0.2 -->\n      <defs>\n       <path d=\"M 31.78125 66.40625 \nQ 24.171875 66.40625 20.328125 58.90625 \nQ 16.5 51.421875 16.5 36.375 \nQ 16.5 21.390625 20.328125 13.890625 \nQ 24.171875 6.390625 31.78125 6.390625 \nQ 39.453125 6.390625 43.28125 13.890625 \nQ 47.125 21.390625 47.125 36.375 \nQ 47.125 51.421875 43.28125 58.90625 \nQ 39.453125 66.40625 31.78125 66.40625 \nz\nM 31.78125 74.21875 \nQ 44.046875 74.21875 50.515625 64.515625 \nQ 56.984375 54.828125 56.984375 36.375 \nQ 56.984375 17.96875 50.515625 8.265625 \nQ 44.046875 -1.421875 31.78125 -1.421875 \nQ 19.53125 -1.421875 13.0625 8.265625 \nQ 6.59375 17.96875 6.59375 36.375 \nQ 6.59375 54.828125 13.0625 64.515625 \nQ 19.53125 74.21875 31.78125 74.21875 \nz\n\" id=\"DejaVuSans-48\"/>\n       <path d=\"M 10.6875 12.40625 \nL 21 12.40625 \nL 21 0 \nL 10.6875 0 \nz\n\" id=\"DejaVuSans-46\"/>\n       <path d=\"M 19.1875 8.296875 \nL 53.609375 8.296875 \nL 53.609375 0 \nL 7.328125 0 \nL 7.328125 8.296875 \nQ 12.9375 14.109375 22.625 23.890625 \nQ 32.328125 33.6875 34.8125 36.53125 \nQ 39.546875 41.84375 41.421875 45.53125 \nQ 43.3125 49.21875 43.3125 52.78125 \nQ 43.3125 58.59375 39.234375 62.25 \nQ 35.15625 65.921875 28.609375 65.921875 \nQ 23.96875 65.921875 18.8125 64.3125 \nQ 13.671875 62.703125 7.8125 59.421875 \nL 7.8125 69.390625 \nQ 13.765625 71.78125 18.9375 73 \nQ 24.125 74.21875 28.421875 74.21875 \nQ 39.75 74.21875 46.484375 68.546875 \nQ 53.21875 62.890625 53.21875 53.421875 \nQ 53.21875 48.921875 51.53125 44.890625 \nQ 49.859375 40.875 45.40625 35.40625 \nQ 44.1875 33.984375 37.640625 27.21875 \nQ 31.109375 20.453125 19.1875 8.296875 \nz\n\" id=\"DejaVuSans-50\"/>\n      </defs>\n      <g transform=\"translate(96.356567 239.238438)scale(0.1 -0.1)\">\n       <use xlink:href=\"#DejaVuSans-48\"/>\n       <use x=\"63.623047\" xlink:href=\"#DejaVuSans-46\"/>\n       <use x=\"95.410156\" xlink:href=\"#DejaVuSans-50\"/>\n      </g>\n     </g>\n    </g>\n    <g id=\"xtick_2\">\n     <g id=\"line2d_2\">\n      <g>\n       <use style=\"stroke:#000000;stroke-width:0.8;\" x=\"169.671126\" xlink:href=\"#m74f866b3e8\" y=\"224.64\"/>\n      </g>\n     </g>\n     <g id=\"text_2\">\n      <!-- 0.4 -->\n      <defs>\n       <path d=\"M 37.796875 64.3125 \nL 12.890625 25.390625 \nL 37.796875 25.390625 \nz\nM 35.203125 72.90625 \nL 47.609375 72.90625 \nL 47.609375 25.390625 \nL 58.015625 25.390625 \nL 58.015625 17.1875 \nL 47.609375 17.1875 \nL 47.609375 0 \nL 37.796875 0 \nL 37.796875 17.1875 \nL 4.890625 17.1875 \nL 4.890625 26.703125 \nz\n\" id=\"DejaVuSans-52\"/>\n      </defs>\n      <g transform=\"translate(161.719563 239.238438)scale(0.1 -0.1)\">\n       <use xlink:href=\"#DejaVuSans-48\"/>\n       <use x=\"63.623047\" xlink:href=\"#DejaVuSans-46\"/>\n       <use x=\"95.410156\" xlink:href=\"#DejaVuSans-52\"/>\n      </g>\n     </g>\n    </g>\n    <g id=\"xtick_3\">\n     <g id=\"line2d_3\">\n      <g>\n       <use style=\"stroke:#000000;stroke-width:0.8;\" x=\"235.034122\" xlink:href=\"#m74f866b3e8\" y=\"224.64\"/>\n      </g>\n     </g>\n     <g id=\"text_3\">\n      <!-- 0.6 -->\n      <defs>\n       <path d=\"M 33.015625 40.375 \nQ 26.375 40.375 22.484375 35.828125 \nQ 18.609375 31.296875 18.609375 23.390625 \nQ 18.609375 15.53125 22.484375 10.953125 \nQ 26.375 6.390625 33.015625 6.390625 \nQ 39.65625 6.390625 43.53125 10.953125 \nQ 47.40625 15.53125 47.40625 23.390625 \nQ 47.40625 31.296875 43.53125 35.828125 \nQ 39.65625 40.375 33.015625 40.375 \nz\nM 52.59375 71.296875 \nL 52.59375 62.3125 \nQ 48.875 64.0625 45.09375 64.984375 \nQ 41.3125 65.921875 37.59375 65.921875 \nQ 27.828125 65.921875 22.671875 59.328125 \nQ 17.53125 52.734375 16.796875 39.40625 \nQ 19.671875 43.65625 24.015625 45.921875 \nQ 28.375 48.1875 33.59375 48.1875 \nQ 44.578125 48.1875 50.953125 41.515625 \nQ 57.328125 34.859375 57.328125 23.390625 \nQ 57.328125 12.15625 50.6875 5.359375 \nQ 44.046875 -1.421875 33.015625 -1.421875 \nQ 20.359375 -1.421875 13.671875 8.265625 \nQ 6.984375 17.96875 6.984375 36.375 \nQ 6.984375 53.65625 15.1875 63.9375 \nQ 23.390625 74.21875 37.203125 74.21875 \nQ 40.921875 74.21875 44.703125 73.484375 \nQ 48.484375 72.75 52.59375 71.296875 \nz\n\" id=\"DejaVuSans-54\"/>\n      </defs>\n      <g transform=\"translate(227.08256 239.238438)scale(0.1 -0.1)\">\n       <use xlink:href=\"#DejaVuSans-48\"/>\n       <use x=\"63.623047\" xlink:href=\"#DejaVuSans-46\"/>\n       <use x=\"95.410156\" xlink:href=\"#DejaVuSans-54\"/>\n      </g>\n     </g>\n    </g>\n    <g id=\"xtick_4\">\n     <g id=\"line2d_4\">\n      <g>\n       <use style=\"stroke:#000000;stroke-width:0.8;\" x=\"300.397118\" xlink:href=\"#m74f866b3e8\" y=\"224.64\"/>\n      </g>\n     </g>\n     <g id=\"text_4\">\n      <!-- 0.8 -->\n      <defs>\n       <path d=\"M 31.78125 34.625 \nQ 24.75 34.625 20.71875 30.859375 \nQ 16.703125 27.09375 16.703125 20.515625 \nQ 16.703125 13.921875 20.71875 10.15625 \nQ 24.75 6.390625 31.78125 6.390625 \nQ 38.8125 6.390625 42.859375 10.171875 \nQ 46.921875 13.96875 46.921875 20.515625 \nQ 46.921875 27.09375 42.890625 30.859375 \nQ 38.875 34.625 31.78125 34.625 \nz\nM 21.921875 38.8125 \nQ 15.578125 40.375 12.03125 44.71875 \nQ 8.5 49.078125 8.5 55.328125 \nQ 8.5 64.0625 14.71875 69.140625 \nQ 20.953125 74.21875 31.78125 74.21875 \nQ 42.671875 74.21875 48.875 69.140625 \nQ 55.078125 64.0625 55.078125 55.328125 \nQ 55.078125 49.078125 51.53125 44.71875 \nQ 48 40.375 41.703125 38.8125 \nQ 48.828125 37.15625 52.796875 32.3125 \nQ 56.78125 27.484375 56.78125 20.515625 \nQ 56.78125 9.90625 50.3125 4.234375 \nQ 43.84375 -1.421875 31.78125 -1.421875 \nQ 19.734375 -1.421875 13.25 4.234375 \nQ 6.78125 9.90625 6.78125 20.515625 \nQ 6.78125 27.484375 10.78125 32.3125 \nQ 14.796875 37.15625 21.921875 38.8125 \nz\nM 18.3125 54.390625 \nQ 18.3125 48.734375 21.84375 45.5625 \nQ 25.390625 42.390625 31.78125 42.390625 \nQ 38.140625 42.390625 41.71875 45.5625 \nQ 45.3125 48.734375 45.3125 54.390625 \nQ 45.3125 60.0625 41.71875 63.234375 \nQ 38.140625 66.40625 31.78125 66.40625 \nQ 25.390625 66.40625 21.84375 63.234375 \nQ 18.3125 60.0625 18.3125 54.390625 \nz\n\" id=\"DejaVuSans-56\"/>\n      </defs>\n      <g transform=\"translate(292.445556 239.238438)scale(0.1 -0.1)\">\n       <use xlink:href=\"#DejaVuSans-48\"/>\n       <use x=\"63.623047\" xlink:href=\"#DejaVuSans-46\"/>\n       <use x=\"95.410156\" xlink:href=\"#DejaVuSans-56\"/>\n      </g>\n     </g>\n    </g>\n    <g id=\"xtick_5\">\n     <g id=\"line2d_5\">\n      <g>\n       <use style=\"stroke:#000000;stroke-width:0.8;\" x=\"365.760114\" xlink:href=\"#m74f866b3e8\" y=\"224.64\"/>\n      </g>\n     </g>\n     <g id=\"text_5\">\n      <!-- 1.0 -->\n      <defs>\n       <path d=\"M 12.40625 8.296875 \nL 28.515625 8.296875 \nL 28.515625 63.921875 \nL 10.984375 60.40625 \nL 10.984375 69.390625 \nL 28.421875 72.90625 \nL 38.28125 72.90625 \nL 38.28125 8.296875 \nL 54.390625 8.296875 \nL 54.390625 0 \nL 12.40625 0 \nz\n\" id=\"DejaVuSans-49\"/>\n      </defs>\n      <g transform=\"translate(357.808552 239.238438)scale(0.1 -0.1)\">\n       <use xlink:href=\"#DejaVuSans-49\"/>\n       <use x=\"63.623047\" xlink:href=\"#DejaVuSans-46\"/>\n       <use x=\"95.410156\" xlink:href=\"#DejaVuSans-48\"/>\n      </g>\n     </g>\n    </g>\n    <g id=\"text_6\">\n     <!-- x -->\n     <defs>\n      <path d=\"M 54.890625 54.6875 \nL 35.109375 28.078125 \nL 55.90625 0 \nL 45.3125 0 \nL 29.390625 21.484375 \nL 13.484375 0 \nL 2.875 0 \nL 24.125 28.609375 \nL 4.6875 54.6875 \nL 15.28125 54.6875 \nL 29.78125 35.203125 \nL 44.28125 54.6875 \nz\n\" id=\"DejaVuSans-120\"/>\n     </defs>\n     <g transform=\"translate(207.73125 255.955938)scale(0.14 -0.14)\">\n      <use xlink:href=\"#DejaVuSans-120\"/>\n     </g>\n    </g>\n   </g>\n   <g id=\"matplotlib.axis_2\">\n    <g id=\"ytick_1\">\n     <g id=\"line2d_6\">\n      <defs>\n       <path d=\"M 0 0 \nL -3.5 0 \n\" id=\"m26b68d36c3\" style=\"stroke:#000000;stroke-width:0.8;\"/>\n      </defs>\n      <g>\n       <use style=\"stroke:#000000;stroke-width:0.8;\" x=\"44.474375\" xlink:href=\"#m26b68d36c3\" y=\"193.634068\"/>\n      </g>\n     </g>\n     <g id=\"text_7\">\n      <!-- 10 -->\n      <g transform=\"translate(24.749375 197.433287)scale(0.1 -0.1)\">\n       <use xlink:href=\"#DejaVuSans-49\"/>\n       <use x=\"63.623047\" xlink:href=\"#DejaVuSans-48\"/>\n      </g>\n     </g>\n    </g>\n    <g id=\"ytick_2\">\n     <g id=\"line2d_7\">\n      <g>\n       <use style=\"stroke:#000000;stroke-width:0.8;\" x=\"44.474375\" xlink:href=\"#m26b68d36c3\" y=\"154.903779\"/>\n      </g>\n     </g>\n     <g id=\"text_8\">\n      <!-- 20 -->\n      <g transform=\"translate(24.749375 158.702997)scale(0.1 -0.1)\">\n       <use xlink:href=\"#DejaVuSans-50\"/>\n       <use x=\"63.623047\" xlink:href=\"#DejaVuSans-48\"/>\n      </g>\n     </g>\n    </g>\n    <g id=\"ytick_3\">\n     <g id=\"line2d_8\">\n      <g>\n       <use style=\"stroke:#000000;stroke-width:0.8;\" x=\"44.474375\" xlink:href=\"#m26b68d36c3\" y=\"116.173489\"/>\n      </g>\n     </g>\n     <g id=\"text_9\">\n      <!-- 30 -->\n      <defs>\n       <path d=\"M 40.578125 39.3125 \nQ 47.65625 37.796875 51.625 33 \nQ 55.609375 28.21875 55.609375 21.1875 \nQ 55.609375 10.40625 48.1875 4.484375 \nQ 40.765625 -1.421875 27.09375 -1.421875 \nQ 22.515625 -1.421875 17.65625 -0.515625 \nQ 12.796875 0.390625 7.625 2.203125 \nL 7.625 11.71875 \nQ 11.71875 9.328125 16.59375 8.109375 \nQ 21.484375 6.890625 26.8125 6.890625 \nQ 36.078125 6.890625 40.9375 10.546875 \nQ 45.796875 14.203125 45.796875 21.1875 \nQ 45.796875 27.640625 41.28125 31.265625 \nQ 36.765625 34.90625 28.71875 34.90625 \nL 20.21875 34.90625 \nL 20.21875 43.015625 \nL 29.109375 43.015625 \nQ 36.375 43.015625 40.234375 45.921875 \nQ 44.09375 48.828125 44.09375 54.296875 \nQ 44.09375 59.90625 40.109375 62.90625 \nQ 36.140625 65.921875 28.71875 65.921875 \nQ 24.65625 65.921875 20.015625 65.03125 \nQ 15.375 64.15625 9.8125 62.3125 \nL 9.8125 71.09375 \nQ 15.4375 72.65625 20.34375 73.4375 \nQ 25.25 74.21875 29.59375 74.21875 \nQ 40.828125 74.21875 47.359375 69.109375 \nQ 53.90625 64.015625 53.90625 55.328125 \nQ 53.90625 49.265625 50.4375 45.09375 \nQ 46.96875 40.921875 40.578125 39.3125 \nz\n\" id=\"DejaVuSans-51\"/>\n      </defs>\n      <g transform=\"translate(24.749375 119.972708)scale(0.1 -0.1)\">\n       <use xlink:href=\"#DejaVuSans-51\"/>\n       <use x=\"63.623047\" xlink:href=\"#DejaVuSans-48\"/>\n      </g>\n     </g>\n    </g>\n    <g id=\"ytick_4\">\n     <g id=\"line2d_9\">\n      <g>\n       <use style=\"stroke:#000000;stroke-width:0.8;\" x=\"44.474375\" xlink:href=\"#m26b68d36c3\" y=\"77.4432\"/>\n      </g>\n     </g>\n     <g id=\"text_10\">\n      <!-- 40 -->\n      <g transform=\"translate(24.749375 81.242418)scale(0.1 -0.1)\">\n       <use xlink:href=\"#DejaVuSans-52\"/>\n       <use x=\"63.623047\" xlink:href=\"#DejaVuSans-48\"/>\n      </g>\n     </g>\n    </g>\n    <g id=\"ytick_5\">\n     <g id=\"line2d_10\">\n      <g>\n       <use style=\"stroke:#000000;stroke-width:0.8;\" x=\"44.474375\" xlink:href=\"#m26b68d36c3\" y=\"38.71291\"/>\n      </g>\n     </g>\n     <g id=\"text_11\">\n      <!-- 50 -->\n      <defs>\n       <path d=\"M 10.796875 72.90625 \nL 49.515625 72.90625 \nL 49.515625 64.59375 \nL 19.828125 64.59375 \nL 19.828125 46.734375 \nQ 21.96875 47.46875 24.109375 47.828125 \nQ 26.265625 48.1875 28.421875 48.1875 \nQ 40.625 48.1875 47.75 41.5 \nQ 54.890625 34.8125 54.890625 23.390625 \nQ 54.890625 11.625 47.5625 5.09375 \nQ 40.234375 -1.421875 26.90625 -1.421875 \nQ 22.3125 -1.421875 17.546875 -0.640625 \nQ 12.796875 0.140625 7.71875 1.703125 \nL 7.71875 11.625 \nQ 12.109375 9.234375 16.796875 8.0625 \nQ 21.484375 6.890625 26.703125 6.890625 \nQ 35.15625 6.890625 40.078125 11.328125 \nQ 45.015625 15.765625 45.015625 23.390625 \nQ 45.015625 31 40.078125 35.4375 \nQ 35.15625 39.890625 26.703125 39.890625 \nQ 22.75 39.890625 18.8125 39.015625 \nQ 14.890625 38.140625 10.796875 36.28125 \nz\n\" id=\"DejaVuSans-53\"/>\n      </defs>\n      <g transform=\"translate(24.749375 42.512129)scale(0.1 -0.1)\">\n       <use xlink:href=\"#DejaVuSans-53\"/>\n       <use x=\"63.623047\" xlink:href=\"#DejaVuSans-48\"/>\n      </g>\n     </g>\n    </g>\n    <g id=\"text_12\">\n     <!-- y -->\n     <defs>\n      <path d=\"M 32.171875 -5.078125 \nQ 28.375 -14.84375 24.75 -17.8125 \nQ 21.140625 -20.796875 15.09375 -20.796875 \nL 7.90625 -20.796875 \nL 7.90625 -13.28125 \nL 13.1875 -13.28125 \nQ 16.890625 -13.28125 18.9375 -11.515625 \nQ 21 -9.765625 23.484375 -3.21875 \nL 25.09375 0.875 \nL 2.984375 54.6875 \nL 12.5 54.6875 \nL 29.59375 11.921875 \nL 46.6875 54.6875 \nL 56.203125 54.6875 \nz\n\" id=\"DejaVuSans-121\"/>\n     </defs>\n     <g transform=\"translate(17.837812 120.063125)rotate(-90)scale(0.14 -0.14)\">\n      <use xlink:href=\"#DejaVuSans-121\"/>\n     </g>\n    </g>\n   </g>\n   <g id=\"line2d_11\">\n    <defs>\n     <path d=\"M 0 1.5 \nC 0.397805 1.5 0.77937 1.341951 1.06066 1.06066 \nC 1.341951 0.77937 1.5 0.397805 1.5 0 \nC 1.5 -0.397805 1.341951 -0.77937 1.06066 -1.06066 \nC 0.77937 -1.341951 0.397805 -1.5 0 -1.5 \nC -0.397805 -1.5 -0.77937 -1.341951 -1.06066 -1.06066 \nC -1.341951 -0.77937 -1.5 -0.397805 -1.5 0 \nC -1.5 0.397805 -1.341951 0.77937 -1.06066 1.06066 \nC -0.77937 1.341951 -0.397805 1.5 0 1.5 \nz\n\" id=\"m428adc016f\" style=\"stroke:#0000ff;\"/>\n    </defs>\n    <g clip-path=\"url(#pf6212379ee)\">\n     <use style=\"fill:#0000ff;stroke:#0000ff;\" x=\"134.429254\" xlink:href=\"#m428adc016f\" y=\"157.371264\"/>\n     <use style=\"fill:#0000ff;stroke:#0000ff;\" x=\"213.841938\" xlink:href=\"#m428adc016f\" y=\"117.750359\"/>\n     <use style=\"fill:#0000ff;stroke:#0000ff;\" x=\"114.069593\" xlink:href=\"#m428adc016f\" y=\"161.078971\"/>\n     <use style=\"fill:#0000ff;stroke:#0000ff;\" x=\"161.075329\" xlink:href=\"#m428adc016f\" y=\"133.464566\"/>\n     <use style=\"fill:#0000ff;stroke:#0000ff;\" x=\"232.627677\" xlink:href=\"#m428adc016f\" y=\"108.080993\"/>\n     <use style=\"fill:#0000ff;stroke:#0000ff;\" x=\"331.557043\" xlink:href=\"#m428adc016f\" y=\"52.181624\"/>\n     <use style=\"fill:#0000ff;stroke:#0000ff;\" x=\"235.443981\" xlink:href=\"#m428adc016f\" y=\"87.790002\"/>\n     <use style=\"fill:#0000ff;stroke:#0000ff;\" x=\"177.44788\" xlink:href=\"#m428adc016f\" y=\"150.332852\"/>\n     <use style=\"fill:#0000ff;stroke:#0000ff;\" x=\"64.830495\" xlink:href=\"#m428adc016f\" y=\"214.756364\"/>\n     <use style=\"fill:#0000ff;stroke:#0000ff;\" x=\"350.303818\" xlink:href=\"#m428adc016f\" y=\"31.500942\"/>\n     <use style=\"fill:#0000ff;stroke:#0000ff;\" x=\"82.260988\" xlink:href=\"#m428adc016f\" y=\"175.354467\"/>\n     <use style=\"fill:#0000ff;stroke:#0000ff;\" x=\"353.225421\" xlink:href=\"#m428adc016f\" y=\"33.311493\"/>\n     <use style=\"fill:#0000ff;stroke:#0000ff;\" x=\"314.357525\" xlink:href=\"#m428adc016f\" y=\"64.318326\"/>\n     <use style=\"fill:#0000ff;stroke:#0000ff;\" x=\"359.093035\" xlink:href=\"#m428adc016f\" y=\"22.834716\"/>\n     <use style=\"fill:#0000ff;stroke:#0000ff;\" x=\"90.703531\" xlink:href=\"#m428adc016f\" y=\"187.779892\"/>\n     <use style=\"fill:#0000ff;stroke:#0000ff;\" x=\"307.684616\" xlink:href=\"#m428adc016f\" y=\"72.292016\"/>\n     <use style=\"fill:#0000ff;stroke:#0000ff;\" x=\"344.190516\" xlink:href=\"#m428adc016f\" y=\"53.608388\"/>\n     <use style=\"fill:#0000ff;stroke:#0000ff;\" x=\"140.287514\" xlink:href=\"#m428adc016f\" y=\"170.342397\"/>\n     <use style=\"fill:#0000ff;stroke:#0000ff;\" x=\"208.632939\" xlink:href=\"#m428adc016f\" y=\"115.178345\"/>\n     <use style=\"fill:#0000ff;stroke:#0000ff;\" x=\"219.960903\" xlink:href=\"#m428adc016f\" y=\"113.464911\"/>\n     <use style=\"fill:#0000ff;stroke:#0000ff;\" x=\"364.056193\" xlink:href=\"#m428adc016f\" y=\"17.083636\"/>\n     <use style=\"fill:#0000ff;stroke:#0000ff;\" x=\"173.619228\" xlink:href=\"#m428adc016f\" y=\"140.146947\"/>\n     <use style=\"fill:#0000ff;stroke:#0000ff;\" x=\"155.31819\" xlink:href=\"#m428adc016f\" y=\"161.234931\"/>\n     <use style=\"fill:#0000ff;stroke:#0000ff;\" x=\"236.139857\" xlink:href=\"#m428adc016f\" y=\"109.982122\"/>\n     <use style=\"fill:#0000ff;stroke:#0000ff;\" x=\"141.264919\" xlink:href=\"#m428adc016f\" y=\"185.805979\"/>\n     <use style=\"fill:#0000ff;stroke:#0000ff;\" x=\"311.936027\" xlink:href=\"#m428adc016f\" y=\"48.922553\"/>\n     <use style=\"fill:#0000ff;stroke:#0000ff;\" x=\"275.803293\" xlink:href=\"#m428adc016f\" y=\"77.798439\"/>\n     <use style=\"fill:#0000ff;stroke:#0000ff;\" x=\"59.692557\" xlink:href=\"#m428adc016f\" y=\"213.843789\"/>\n     <use style=\"fill:#0000ff;stroke:#0000ff;\" x=\"97.001044\" xlink:href=\"#m428adc016f\" y=\"176.625179\"/>\n     <use style=\"fill:#0000ff;stroke:#0000ff;\" x=\"246.322777\" xlink:href=\"#m428adc016f\" y=\"101.88466\"/>\n    </g>\n   </g>\n   <g id=\"patch_3\">\n    <path d=\"M 44.474375 224.64 \nL 44.474375 7.2 \n\" style=\"fill:none;stroke:#000000;stroke-linecap:square;stroke-linejoin:miter;stroke-width:0.8;\"/>\n   </g>\n   <g id=\"patch_4\">\n    <path d=\"M 379.274375 224.64 \nL 379.274375 7.2 \n\" style=\"fill:none;stroke:#000000;stroke-linecap:square;stroke-linejoin:miter;stroke-width:0.8;\"/>\n   </g>\n   <g id=\"patch_5\">\n    <path d=\"M 44.474375 224.64 \nL 379.274375 224.64 \n\" style=\"fill:none;stroke:#000000;stroke-linecap:square;stroke-linejoin:miter;stroke-width:0.8;\"/>\n   </g>\n   <g id=\"patch_6\">\n    <path d=\"M 44.474375 7.2 \nL 379.274375 7.2 \n\" style=\"fill:none;stroke:#000000;stroke-linecap:square;stroke-linejoin:miter;stroke-width:0.8;\"/>\n   </g>\n  </g>\n </g>\n <defs>\n  <clipPath id=\"pf6212379ee\">\n   <rect height=\"217.44\" width=\"334.8\" x=\"44.474375\" y=\"7.2\"/>\n  </clipPath>\n </defs>\n</svg>\n",
      "image/png": "[encoded data removed]"
     },
     "metadata": {
      "needs_background": "light"
     }
    }
   ],
   "source": [
    "import numpy as np\n",
    "np.set_printoptions(formatter={'float_kind':'{:f}'.format})\n",
    "import matplotlib.pyplot as plt\n",
    "%matplotlib inline\n",
    "np.random.seed(225)\n",
    "\n",
    "x = np.random.rand(30, 1).reshape(30)\n",
    "y_randterm = np.random.normal(0,3,30)\n",
    "y = 3 + 50* x + y_randterm\n",
    "\n",
    "data = np.array([y, x])\n",
    "data = np.transpose(data)\n",
    "\n",
    "plt.plot(x, y, '.b')\n",
    "plt.xlabel(\"x\", fontsize=14)\n",
    "plt.ylabel(\"y\", fontsize=14);"
   ]
  },
  {
   "cell_type": "markdown",
   "metadata": {},
   "source": [
    "Now\n",
    "\n",
    "- Let's set our initial regression line by initializing $m$ and $b$ variables as zero.  Store them in `b_current` and `m_current`.\n",
    "- Let's next initialize updates to these variables by setting the variables, `update_to_b` and `update_to_m` equal to 0.\n",
    "- Define an `error_at` function which returns the error $\\epsilon_i$ for a given $i$. The parameters are:\n",
    "> point: a row of the particular data set  \n",
    "> $b$: the intercept term  \n",
    "> $m$: the slope  \n",
    "\n",
    "- Them, use this `error_at` function to iterate through each of the points in the dataset, and at each iteration change our `update_to_b` by $2*\\epsilon$ and change our `update_to_m` by $2*x*\\epsilon$."
   ]
  },
  {
   "cell_type": "code",
   "execution_count": 2,
   "metadata": {
    "collapsed": true,
    "pycharm": {
     "is_executing": false
    }
   },
   "outputs": [],
   "source": [
    "# initial variables of our regression line\n",
    "b_current = 0\n",
    "m_current = 0\n",
    "\n",
    "#amount to update our variables for our next step\n",
    "update_to_b = 0\n",
    "update_to_m = 0\n",
    "\n",
    "# Define the error_at function\n",
    "def error_at(point, b, m):\n",
    "    \"\"\"\n",
    "    :param point: data is given as [(y, x)], so each point is the type tuple (y, x); so y is point[0] and x is point[1]\n",
    "    :param b: y-intercept at point (y, x)\n",
    "    :param m: slope at point (y, x)\n",
    "    :return: error at point (y, x)\n",
    "    \"\"\"\n",
    "    x = point[1]\n",
    "    y = point[0]\n",
    "    return y - (m*x + b)\n",
    "    \n",
    "# iterate through data to change update_to_b and update_to_m\n",
    "for point in data:\n",
    "    epsilon_at_point = error_at(point, b_current, m_current)\n",
    "    update_to_b += -2*epsilon_at_point\n",
    "    x = point[1]\n",
    "    update_to_m += -2*x*epsilon_at_point\n",
    "\n",
    "# Create new_b and new_m by subtracting the updates from the current estimates\n",
    "new_b = b_current - update_to_b\n",
    "new_m = m_current - update_to_m"
   ]
  },
  {
   "cell_type": "markdown",
   "metadata": {},
   "source": [
    "In the last two lines of the code above, we calculate our `new_b` and `new_m` values by updating our taking our current values and adding our respective updates.  We define a function called `error_at`, which we can use in the error component of our partial derivatives above.\n",
    "\n",
    "The code above represents **just one** update to our regression line, and therefore just one step towards our best fit line.  We'll just repeat the process to take multiple steps.  But first, we have to make a couple of other changes. \n",
    "\n",
    "## Tweaking our approach \n",
    "\n",
    "Ok, the above code is very close to what we want, but we just need to make tweaks to our code before it's perfect.\n",
    "\n",
    "The first one is obvious if we think about what these formulas are really telling us to do.  Look at the graph below, and think about what it means to change each of our $m$ and $b$ variables by at least the sum of all of the errors, of the $y$ values that our regression line predicts and our actual data.  That would be an enormous change.  To ensure that we drastically updating our regression line with each step, we multiply each of these partial derivatives by a learning rate.  As we have seen before, the learning rate is just a small number, like $.\n",
    "01$ which controls how large our updates to the regression line will be.  The learning rate is  represented by the Greek letter eta, $\\eta$, or alpha $\\alpha$.  We'll use eta, so $\\eta = .01$ means the learning rate is $.01$.\n",
    "\n",
    "Multiplying our step size by our learning rate works fine, so long as we multiply both of the partial derivatives by the same amount.  This is because without gradient,  $ \\nabla J(m,b)$, we think of as steering us in the correct direction.  In other words, our derivatives ensure we are making the correct **proportional** changes to $m$ and $b$.  So scaling down these changes to make sure we don't update our regression line too quickly works fine, so long as we keep me moving in the correct direction.  While we're at it, we can also get rid of multiplying our partials by 2.  As mentioned, so long as our changes are proportional we're in good shape. \n",
    "\n",
    "For our second tweak, note that in general the larger the dataset, the larger the sum of our errors would be.  But that doesn't mean our formulas are less accurate, and there deserve larger changes.  It just means that the total error is larger.  But we should really think accuracy as being proportional to the size of our dataset.  We can correct for this effect by dividing the effect of our update by the size of our dataset, $n$.\n",
    "\n",
    "Make these changes below:"
   ]
  },
  {
   "cell_type": "code",
   "execution_count": 3,
   "metadata": {
    "collapsed": true,
    "pycharm": {
     "is_executing": false
    }
   },
   "outputs": [],
   "source": [
    "#amount to update our variables for our next step\n",
    "b_current = 0\n",
    "m_current = 0\n",
    "\n",
    "# define learning rate and n\n",
    "eta = 0.01\n",
    "n = len(data)\n",
    "\n",
    "# create update_to_b and update_to_m\n",
    "for point in data:\n",
    "    epsilon_at_point = error_at(point, b_current, m_current)\n",
    "    update_to_b += -epsilon_at_point/n\n",
    "    x = point[1]\n",
    "    update_to_m += -(x*epsilon_at_point)/n\n",
    "    \n",
    "# create new_b and new_m\n",
    "new_b = b_current - (eta * update_to_b)\n",
    "new_m = m_current - (eta * update_to_m)"
   ]
  },
  {
   "cell_type": "markdown",
   "metadata": {},
   "source": [
    "So our code now reflects what we know about our gradient descent process.  Start with an initial regression line with values of $m$ and $b$.  Then for each point, calculate how the regression line fares against the actual point (that is, find the error).  Update what the next step to the respective variable should be by using the partial derivative.  And after iterating through all of the points, update the value of $b$ and $m$ appropriately, scaled down by a learning rate.\n",
    "\n",
    "## Seeing our gradient descent formulas in action\n",
    "\n",
    "As mentioned earlier, the code above represents just one update to our regression line, and therefore just one step towards our best fit line.  To take multiple steps we wrap the process we want to duplicate in a function called `step_gradient` and then can call that function as much as we want. With this function:\n",
    "\n",
    "- Include a learning_rate of 0.1\n",
    "- Return a tuple of (b,m)  \n",
    "The parameters should be:\n",
    "> b_current : the starting value of b   \n",
    "> m_current : the starting value of m   \n",
    "> points : the number of points at which we want to check our gradient \n",
    "\n",
    "See if you can use your `error_at` function within the `step_gradient` function!"
   ]
  },
  {
   "cell_type": "code",
   "execution_count": 4,
   "metadata": {
    "collapsed": true,
    "pycharm": {
     "is_executing": false
    }
   },
   "outputs": [],
   "source": [
    "def step_gradient(b_current, m_current, points, eta=0.1):\n",
    "    grad_J_wrt_b = 0\n",
    "    grad_J_wrt_m = 0\n",
    "    n = len(points)\n",
    "    \n",
    "    for point in points:\n",
    "        epsilon_at_point = error_at(point, b_current, m_current) # y - y_hat = y - (mx + b)\n",
    "        grad_J_wrt_b += -epsilon_at_point/n\n",
    "        x = point[1]\n",
    "        grad_J_wrt_m += -(x*epsilon_at_point)/n\n",
    "    \n",
    "    return (b_current-eta*grad_J_wrt_b, m_current-eta*grad_J_wrt_m)"
   ]
  },
  {
   "cell_type": "markdown",
   "metadata": {},
   "source": [
    "Now let's initialize `b` and `m` as 0 and run a first iteration of the `step_gradient` function."
   ]
  },
  {
   "cell_type": "code",
   "execution_count": 5,
   "metadata": {
    "pycharm": {
     "is_executing": false
    }
   },
   "outputs": [
    {
     "output_type": "execute_result",
     "data": {
      "text/plain": "(3.0250308395837813, 2.0728619246505193)"
     },
     "metadata": {},
     "execution_count": 5
    }
   ],
   "source": [
    "gradient_iteration = []\n",
    "gradient_iteration.append(step_gradient(0, 0, data))\n",
    "gradient_iteration[0]\n",
    "# b= 3.02503, m= 2.07286"
   ]
  },
  {
   "cell_type": "markdown",
   "metadata": {},
   "source": [
    "So just looking at input and output, we begin by setting $b$ and $m$ to 0 and 0.  Then from our step_gradient function, we receive new values of $b$ and $m$ of 3.02503 and 2.0728.  Now what we need to do, is take another step in the correct direction by calling our step gradient function with our updated values of $b$ and $m$."
   ]
  },
  {
   "cell_type": "code",
   "execution_count": 6,
   "metadata": {
    "pycharm": {
     "is_executing": false
    }
   },
   "outputs": [
    {
     "output_type": "execute_result",
     "data": {
      "text/plain": "(5.634896312558807, 3.902265648903966)"
     },
     "metadata": {},
     "execution_count": 6
    }
   ],
   "source": [
    "gradient_iteration.append(step_gradient(gradient_iteration[0][0], gradient_iteration[0][1], data))\n",
    "gradient_iteration[1]\n",
    "# b = 5.63489, m= 3.902265"
   ]
  },
  {
   "cell_type": "markdown",
   "metadata": {},
   "source": [
    "Let's do this, say, 1000 times."
   ]
  },
  {
   "cell_type": "code",
   "execution_count": 7,
   "metadata": {
    "collapsed": true,
    "pycharm": {
     "is_executing": false
    }
   },
   "outputs": [],
   "source": [
    "gradient_iteration = []\n",
    "gradient_iteration.append((0, 0))\n",
    "\n",
    "# create a for loop to do this\n",
    "for i in range(1000):\n",
    "    gradient_iteration.append(\n",
    "        step_gradient(\n",
    "            gradient_iteration[i][0], \n",
    "            gradient_iteration[i][1], \n",
    "            data\n",
    "        )\n",
    "    )"
   ]
  },
  {
   "cell_type": "markdown",
   "metadata": {},
   "source": [
    "Let's take a look at the estimates in the last iteration."
   ]
  },
  {
   "cell_type": "code",
   "execution_count": 8,
   "metadata": {
    "pycharm": {
     "is_executing": false
    }
   },
   "outputs": [
    {
     "output_type": "execute_result",
     "data": {
      "text/plain": "(3.1619764855577257, 49.84313430300858)"
     },
     "metadata": {},
     "execution_count": 8
    }
   ],
   "source": [
    "gradient_iteration[-1]"
   ]
  },
  {
   "cell_type": "markdown",
   "metadata": {},
   "source": [
    "As you can see, our  m  and  b  values both update with each step. Not only that, but with each step, the size of the changes to  m and  b  decrease. This is because they are approaching a best fit line.\n",
    "\n",
    "## Let's include 2 predictors, $x_1$ and $x_2$\n",
    "\n",
    "Below, we generated a problem where we have 2 predictors. We generated data such that the best fit line is around $\\hat y = 3x_1 -4x_2 +2$, noting that there is random noise introduced, so the final result will never be exactly that. Let's build what we built previously, but now create a `step_gradient_multi` function that can take an *arbitrary* number of predictors (so the function should be able to include more than 2 predictors as well). Good luck!"
   ]
  },
  {
   "cell_type": "code",
   "execution_count": 9,
   "metadata": {
    "collapsed": true,
    "pycharm": {
     "is_executing": false
    }
   },
   "outputs": [],
   "source": [
    "import numpy as np\n",
    "import matplotlib.pyplot as plt\n",
    "np.random.seed(11)\n",
    "\n",
    "x1 = np.random.rand(100,1).reshape(100)\n",
    "x2 = np.random.rand(100,1).reshape(100)\n",
    "y_randterm = np.random.normal(0,0.2,100)\n",
    "y = 2+ 3* x1+ -4*x2 + y_randterm\n",
    "\n",
    "data = np.array([y, x1, x2])\n",
    "data = np.transpose(data)"
   ]
  },
  {
   "cell_type": "code",
   "execution_count": 10,
   "metadata": {
    "pycharm": {
     "is_executing": false
    }
   },
   "outputs": [
    {
     "output_type": "display_data",
     "data": {
      "text/plain": "<Figure size 720x360 with 2 Axes>",
      "image/svg+xml": "<?xml version=\"1.0\" encoding=\"utf-8\" standalone=\"no\"?>\n<!DOCTYPE svg PUBLIC \"-//W3C//DTD SVG 1.1//EN\"\n  \"http://www.w3.org/Graphics/SVG/1.1/DTD/svg11.dtd\">\n<!-- Created with matplotlib (https://matplotlib.org/) -->\n<svg height=\"317.784375pt\" version=\"1.1\" viewBox=\"0 0 594.142187 317.784375\" width=\"594.142187pt\" xmlns=\"http://www.w3.org/2000/svg\" xmlns:xlink=\"http://www.w3.org/1999/xlink\">\n <defs>\n  <style type=\"text/css\">\n*{stroke-linecap:butt;stroke-linejoin:round;}\n  </style>\n </defs>\n <g id=\"figure_1\">\n  <g id=\"patch_1\">\n   <path d=\"M 0 317.784375 \nL 594.142187 317.784375 \nL 594.142187 0 \nL 0 0 \nz\n\" style=\"fill:none;\"/>\n  </g>\n  <g id=\"axes_1\">\n   <g id=\"patch_2\">\n    <path d=\"M 28.942188 293.90625 \nL 282.578551 293.90625 \nL 282.578551 22.10625 \nL 28.942188 22.10625 \nz\n\" style=\"fill:#ffffff;\"/>\n   </g>\n   <g id=\"matplotlib.axis_1\">\n    <g id=\"xtick_1\">\n     <g id=\"line2d_1\">\n      <defs>\n       <path d=\"M 0 0 \nL 0 3.5 \n\" id=\"m6702eaa9f8\" style=\"stroke:#000000;stroke-width:0.8;\"/>\n      </defs>\n      <g>\n       <use style=\"stroke:#000000;stroke-width:0.8;\" x=\"37.445131\" xlink:href=\"#m6702eaa9f8\" y=\"293.90625\"/>\n      </g>\n     </g>\n     <g id=\"text_1\">\n      <!-- 0.0 -->\n      <defs>\n       <path d=\"M 31.78125 66.40625 \nQ 24.171875 66.40625 20.328125 58.90625 \nQ 16.5 51.421875 16.5 36.375 \nQ 16.5 21.390625 20.328125 13.890625 \nQ 24.171875 6.390625 31.78125 6.390625 \nQ 39.453125 6.390625 43.28125 13.890625 \nQ 47.125 21.390625 47.125 36.375 \nQ 47.125 51.421875 43.28125 58.90625 \nQ 39.453125 66.40625 31.78125 66.40625 \nz\nM 31.78125 74.21875 \nQ 44.046875 74.21875 50.515625 64.515625 \nQ 56.984375 54.828125 56.984375 36.375 \nQ 56.984375 17.96875 50.515625 8.265625 \nQ 44.046875 -1.421875 31.78125 -1.421875 \nQ 19.53125 -1.421875 13.0625 8.265625 \nQ 6.59375 17.96875 6.59375 36.375 \nQ 6.59375 54.828125 13.0625 64.515625 \nQ 19.53125 74.21875 31.78125 74.21875 \nz\n\" id=\"DejaVuSans-48\"/>\n       <path d=\"M 10.6875 12.40625 \nL 21 12.40625 \nL 21 0 \nL 10.6875 0 \nz\n\" id=\"DejaVuSans-46\"/>\n      </defs>\n      <g transform=\"translate(29.493569 308.504687)scale(0.1 -0.1)\">\n       <use xlink:href=\"#DejaVuSans-48\"/>\n       <use x=\"63.623047\" xlink:href=\"#DejaVuSans-46\"/>\n       <use x=\"95.410156\" xlink:href=\"#DejaVuSans-48\"/>\n      </g>\n     </g>\n    </g>\n    <g id=\"xtick_2\">\n     <g id=\"line2d_2\">\n      <g>\n       <use style=\"stroke:#000000;stroke-width:0.8;\" x=\"84.797074\" xlink:href=\"#m6702eaa9f8\" y=\"293.90625\"/>\n      </g>\n     </g>\n     <g id=\"text_2\">\n      <!-- 0.2 -->\n      <defs>\n       <path d=\"M 19.1875 8.296875 \nL 53.609375 8.296875 \nL 53.609375 0 \nL 7.328125 0 \nL 7.328125 8.296875 \nQ 12.9375 14.109375 22.625 23.890625 \nQ 32.328125 33.6875 34.8125 36.53125 \nQ 39.546875 41.84375 41.421875 45.53125 \nQ 43.3125 49.21875 43.3125 52.78125 \nQ 43.3125 58.59375 39.234375 62.25 \nQ 35.15625 65.921875 28.609375 65.921875 \nQ 23.96875 65.921875 18.8125 64.3125 \nQ 13.671875 62.703125 7.8125 59.421875 \nL 7.8125 69.390625 \nQ 13.765625 71.78125 18.9375 73 \nQ 24.125 74.21875 28.421875 74.21875 \nQ 39.75 74.21875 46.484375 68.546875 \nQ 53.21875 62.890625 53.21875 53.421875 \nQ 53.21875 48.921875 51.53125 44.890625 \nQ 49.859375 40.875 45.40625 35.40625 \nQ 44.1875 33.984375 37.640625 27.21875 \nQ 31.109375 20.453125 19.1875 8.296875 \nz\n\" id=\"DejaVuSans-50\"/>\n      </defs>\n      <g transform=\"translate(76.845511 308.504687)scale(0.1 -0.1)\">\n       <use xlink:href=\"#DejaVuSans-48\"/>\n       <use x=\"63.623047\" xlink:href=\"#DejaVuSans-46\"/>\n       <use x=\"95.410156\" xlink:href=\"#DejaVuSans-50\"/>\n      </g>\n     </g>\n    </g>\n    <g id=\"xtick_3\">\n     <g id=\"line2d_3\">\n      <g>\n       <use style=\"stroke:#000000;stroke-width:0.8;\" x=\"132.149016\" xlink:href=\"#m6702eaa9f8\" y=\"293.90625\"/>\n      </g>\n     </g>\n     <g id=\"text_3\">\n      <!-- 0.4 -->\n      <defs>\n       <path d=\"M 37.796875 64.3125 \nL 12.890625 25.390625 \nL 37.796875 25.390625 \nz\nM 35.203125 72.90625 \nL 47.609375 72.90625 \nL 47.609375 25.390625 \nL 58.015625 25.390625 \nL 58.015625 17.1875 \nL 47.609375 17.1875 \nL 47.609375 0 \nL 37.796875 0 \nL 37.796875 17.1875 \nL 4.890625 17.1875 \nL 4.890625 26.703125 \nz\n\" id=\"DejaVuSans-52\"/>\n      </defs>\n      <g transform=\"translate(124.197454 308.504687)scale(0.1 -0.1)\">\n       <use xlink:href=\"#DejaVuSans-48\"/>\n       <use x=\"63.623047\" xlink:href=\"#DejaVuSans-46\"/>\n       <use x=\"95.410156\" xlink:href=\"#DejaVuSans-52\"/>\n      </g>\n     </g>\n    </g>\n    <g id=\"xtick_4\">\n     <g id=\"line2d_4\">\n      <g>\n       <use style=\"stroke:#000000;stroke-width:0.8;\" x=\"179.500959\" xlink:href=\"#m6702eaa9f8\" y=\"293.90625\"/>\n      </g>\n     </g>\n     <g id=\"text_4\">\n      <!-- 0.6 -->\n      <defs>\n       <path d=\"M 33.015625 40.375 \nQ 26.375 40.375 22.484375 35.828125 \nQ 18.609375 31.296875 18.609375 23.390625 \nQ 18.609375 15.53125 22.484375 10.953125 \nQ 26.375 6.390625 33.015625 6.390625 \nQ 39.65625 6.390625 43.53125 10.953125 \nQ 47.40625 15.53125 47.40625 23.390625 \nQ 47.40625 31.296875 43.53125 35.828125 \nQ 39.65625 40.375 33.015625 40.375 \nz\nM 52.59375 71.296875 \nL 52.59375 62.3125 \nQ 48.875 64.0625 45.09375 64.984375 \nQ 41.3125 65.921875 37.59375 65.921875 \nQ 27.828125 65.921875 22.671875 59.328125 \nQ 17.53125 52.734375 16.796875 39.40625 \nQ 19.671875 43.65625 24.015625 45.921875 \nQ 28.375 48.1875 33.59375 48.1875 \nQ 44.578125 48.1875 50.953125 41.515625 \nQ 57.328125 34.859375 57.328125 23.390625 \nQ 57.328125 12.15625 50.6875 5.359375 \nQ 44.046875 -1.421875 33.015625 -1.421875 \nQ 20.359375 -1.421875 13.671875 8.265625 \nQ 6.984375 17.96875 6.984375 36.375 \nQ 6.984375 53.65625 15.1875 63.9375 \nQ 23.390625 74.21875 37.203125 74.21875 \nQ 40.921875 74.21875 44.703125 73.484375 \nQ 48.484375 72.75 52.59375 71.296875 \nz\n\" id=\"DejaVuSans-54\"/>\n      </defs>\n      <g transform=\"translate(171.549396 308.504687)scale(0.1 -0.1)\">\n       <use xlink:href=\"#DejaVuSans-48\"/>\n       <use x=\"63.623047\" xlink:href=\"#DejaVuSans-46\"/>\n       <use x=\"95.410156\" xlink:href=\"#DejaVuSans-54\"/>\n      </g>\n     </g>\n    </g>\n    <g id=\"xtick_5\">\n     <g id=\"line2d_5\">\n      <g>\n       <use style=\"stroke:#000000;stroke-width:0.8;\" x=\"226.852901\" xlink:href=\"#m6702eaa9f8\" y=\"293.90625\"/>\n      </g>\n     </g>\n     <g id=\"text_5\">\n      <!-- 0.8 -->\n      <defs>\n       <path d=\"M 31.78125 34.625 \nQ 24.75 34.625 20.71875 30.859375 \nQ 16.703125 27.09375 16.703125 20.515625 \nQ 16.703125 13.921875 20.71875 10.15625 \nQ 24.75 6.390625 31.78125 6.390625 \nQ 38.8125 6.390625 42.859375 10.171875 \nQ 46.921875 13.96875 46.921875 20.515625 \nQ 46.921875 27.09375 42.890625 30.859375 \nQ 38.875 34.625 31.78125 34.625 \nz\nM 21.921875 38.8125 \nQ 15.578125 40.375 12.03125 44.71875 \nQ 8.5 49.078125 8.5 55.328125 \nQ 8.5 64.0625 14.71875 69.140625 \nQ 20.953125 74.21875 31.78125 74.21875 \nQ 42.671875 74.21875 48.875 69.140625 \nQ 55.078125 64.0625 55.078125 55.328125 \nQ 55.078125 49.078125 51.53125 44.71875 \nQ 48 40.375 41.703125 38.8125 \nQ 48.828125 37.15625 52.796875 32.3125 \nQ 56.78125 27.484375 56.78125 20.515625 \nQ 56.78125 9.90625 50.3125 4.234375 \nQ 43.84375 -1.421875 31.78125 -1.421875 \nQ 19.734375 -1.421875 13.25 4.234375 \nQ 6.78125 9.90625 6.78125 20.515625 \nQ 6.78125 27.484375 10.78125 32.3125 \nQ 14.796875 37.15625 21.921875 38.8125 \nz\nM 18.3125 54.390625 \nQ 18.3125 48.734375 21.84375 45.5625 \nQ 25.390625 42.390625 31.78125 42.390625 \nQ 38.140625 42.390625 41.71875 45.5625 \nQ 45.3125 48.734375 45.3125 54.390625 \nQ 45.3125 60.0625 41.71875 63.234375 \nQ 38.140625 66.40625 31.78125 66.40625 \nQ 25.390625 66.40625 21.84375 63.234375 \nQ 18.3125 60.0625 18.3125 54.390625 \nz\n\" id=\"DejaVuSans-56\"/>\n      </defs>\n      <g transform=\"translate(218.901339 308.504687)scale(0.1 -0.1)\">\n       <use xlink:href=\"#DejaVuSans-48\"/>\n       <use x=\"63.623047\" xlink:href=\"#DejaVuSans-46\"/>\n       <use x=\"95.410156\" xlink:href=\"#DejaVuSans-56\"/>\n      </g>\n     </g>\n    </g>\n    <g id=\"xtick_6\">\n     <g id=\"line2d_6\">\n      <g>\n       <use style=\"stroke:#000000;stroke-width:0.8;\" x=\"274.204844\" xlink:href=\"#m6702eaa9f8\" y=\"293.90625\"/>\n      </g>\n     </g>\n     <g id=\"text_6\">\n      <!-- 1.0 -->\n      <defs>\n       <path d=\"M 12.40625 8.296875 \nL 28.515625 8.296875 \nL 28.515625 63.921875 \nL 10.984375 60.40625 \nL 10.984375 69.390625 \nL 28.421875 72.90625 \nL 38.28125 72.90625 \nL 38.28125 8.296875 \nL 54.390625 8.296875 \nL 54.390625 0 \nL 12.40625 0 \nz\n\" id=\"DejaVuSans-49\"/>\n      </defs>\n      <g transform=\"translate(266.253281 308.504687)scale(0.1 -0.1)\">\n       <use xlink:href=\"#DejaVuSans-49\"/>\n       <use x=\"63.623047\" xlink:href=\"#DejaVuSans-46\"/>\n       <use x=\"95.410156\" xlink:href=\"#DejaVuSans-48\"/>\n      </g>\n     </g>\n    </g>\n   </g>\n   <g id=\"matplotlib.axis_2\">\n    <g id=\"ytick_1\">\n     <g id=\"line2d_7\">\n      <defs>\n       <path d=\"M 0 0 \nL -3.5 0 \n\" id=\"mca01b4b1b8\" style=\"stroke:#000000;stroke-width:0.8;\"/>\n      </defs>\n      <g>\n       <use style=\"stroke:#000000;stroke-width:0.8;\" x=\"28.942188\" xlink:href=\"#mca01b4b1b8\" y=\"287.39887\"/>\n      </g>\n     </g>\n     <g id=\"text_7\">\n      <!-- −2 -->\n      <defs>\n       <path d=\"M 10.59375 35.5 \nL 73.1875 35.5 \nL 73.1875 27.203125 \nL 10.59375 27.203125 \nz\n\" id=\"DejaVuSans-8722\"/>\n      </defs>\n      <g transform=\"translate(7.2 291.198089)scale(0.1 -0.1)\">\n       <use xlink:href=\"#DejaVuSans-8722\"/>\n       <use x=\"83.789062\" xlink:href=\"#DejaVuSans-50\"/>\n      </g>\n     </g>\n    </g>\n    <g id=\"ytick_2\">\n     <g id=\"line2d_8\">\n      <g>\n       <use style=\"stroke:#000000;stroke-width:0.8;\" x=\"28.942188\" xlink:href=\"#mca01b4b1b8\" y=\"245.999319\"/>\n      </g>\n     </g>\n     <g id=\"text_8\">\n      <!-- −1 -->\n      <g transform=\"translate(7.2 249.798538)scale(0.1 -0.1)\">\n       <use xlink:href=\"#DejaVuSans-8722\"/>\n       <use x=\"83.789062\" xlink:href=\"#DejaVuSans-49\"/>\n      </g>\n     </g>\n    </g>\n    <g id=\"ytick_3\">\n     <g id=\"line2d_9\">\n      <g>\n       <use style=\"stroke:#000000;stroke-width:0.8;\" x=\"28.942188\" xlink:href=\"#mca01b4b1b8\" y=\"204.599768\"/>\n      </g>\n     </g>\n     <g id=\"text_9\">\n      <!-- 0 -->\n      <g transform=\"translate(15.579688 208.398987)scale(0.1 -0.1)\">\n       <use xlink:href=\"#DejaVuSans-48\"/>\n      </g>\n     </g>\n    </g>\n    <g id=\"ytick_4\">\n     <g id=\"line2d_10\">\n      <g>\n       <use style=\"stroke:#000000;stroke-width:0.8;\" x=\"28.942188\" xlink:href=\"#mca01b4b1b8\" y=\"163.200217\"/>\n      </g>\n     </g>\n     <g id=\"text_10\">\n      <!-- 1 -->\n      <g transform=\"translate(15.579688 166.999436)scale(0.1 -0.1)\">\n       <use xlink:href=\"#DejaVuSans-49\"/>\n      </g>\n     </g>\n    </g>\n    <g id=\"ytick_5\">\n     <g id=\"line2d_11\">\n      <g>\n       <use style=\"stroke:#000000;stroke-width:0.8;\" x=\"28.942188\" xlink:href=\"#mca01b4b1b8\" y=\"121.800666\"/>\n      </g>\n     </g>\n     <g id=\"text_11\">\n      <!-- 2 -->\n      <g transform=\"translate(15.579688 125.599885)scale(0.1 -0.1)\">\n       <use xlink:href=\"#DejaVuSans-50\"/>\n      </g>\n     </g>\n    </g>\n    <g id=\"ytick_6\">\n     <g id=\"line2d_12\">\n      <g>\n       <use style=\"stroke:#000000;stroke-width:0.8;\" x=\"28.942188\" xlink:href=\"#mca01b4b1b8\" y=\"80.401116\"/>\n      </g>\n     </g>\n     <g id=\"text_12\">\n      <!-- 3 -->\n      <defs>\n       <path d=\"M 40.578125 39.3125 \nQ 47.65625 37.796875 51.625 33 \nQ 55.609375 28.21875 55.609375 21.1875 \nQ 55.609375 10.40625 48.1875 4.484375 \nQ 40.765625 -1.421875 27.09375 -1.421875 \nQ 22.515625 -1.421875 17.65625 -0.515625 \nQ 12.796875 0.390625 7.625 2.203125 \nL 7.625 11.71875 \nQ 11.71875 9.328125 16.59375 8.109375 \nQ 21.484375 6.890625 26.8125 6.890625 \nQ 36.078125 6.890625 40.9375 10.546875 \nQ 45.796875 14.203125 45.796875 21.1875 \nQ 45.796875 27.640625 41.28125 31.265625 \nQ 36.765625 34.90625 28.71875 34.90625 \nL 20.21875 34.90625 \nL 20.21875 43.015625 \nL 29.109375 43.015625 \nQ 36.375 43.015625 40.234375 45.921875 \nQ 44.09375 48.828125 44.09375 54.296875 \nQ 44.09375 59.90625 40.109375 62.90625 \nQ 36.140625 65.921875 28.71875 65.921875 \nQ 24.65625 65.921875 20.015625 65.03125 \nQ 15.375 64.15625 9.8125 62.3125 \nL 9.8125 71.09375 \nQ 15.4375 72.65625 20.34375 73.4375 \nQ 25.25 74.21875 29.59375 74.21875 \nQ 40.828125 74.21875 47.359375 69.109375 \nQ 53.90625 64.015625 53.90625 55.328125 \nQ 53.90625 49.265625 50.4375 45.09375 \nQ 46.96875 40.921875 40.578125 39.3125 \nz\n\" id=\"DejaVuSans-51\"/>\n      </defs>\n      <g transform=\"translate(15.579688 84.200334)scale(0.1 -0.1)\">\n       <use xlink:href=\"#DejaVuSans-51\"/>\n      </g>\n     </g>\n    </g>\n    <g id=\"ytick_7\">\n     <g id=\"line2d_13\">\n      <g>\n       <use style=\"stroke:#000000;stroke-width:0.8;\" x=\"28.942188\" xlink:href=\"#mca01b4b1b8\" y=\"39.001565\"/>\n      </g>\n     </g>\n     <g id=\"text_13\">\n      <!-- 4 -->\n      <g transform=\"translate(15.579688 42.800783)scale(0.1 -0.1)\">\n       <use xlink:href=\"#DejaVuSans-52\"/>\n      </g>\n     </g>\n    </g>\n   </g>\n   <g id=\"line2d_14\">\n    <defs>\n     <path d=\"M 0 1.5 \nC 0.397805 1.5 0.77937 1.341951 1.06066 1.06066 \nC 1.341951 0.77937 1.5 0.397805 1.5 0 \nC 1.5 -0.397805 1.341951 -0.77937 1.06066 -1.06066 \nC 0.77937 -1.341951 0.397805 -1.5 0 -1.5 \nC -0.397805 -1.5 -0.77937 -1.341951 -1.06066 -1.06066 \nC -1.341951 -0.77937 -1.5 -0.397805 -1.5 0 \nC -1.5 0.397805 -1.341951 0.77937 -1.06066 1.06066 \nC -0.77937 1.341951 -0.397805 1.5 0 1.5 \nz\n\" id=\"m57c3286073\" style=\"stroke:#0000ff;\"/>\n    </defs>\n    <g clip-path=\"url(#pdb55dc2a9a)\">\n     <use style=\"fill:#0000ff;stroke:#0000ff;\" x=\"80.125731\" xlink:href=\"#m57c3286073\" y=\"151.108367\"/>\n     <use style=\"fill:#0000ff;stroke:#0000ff;\" x=\"42.056084\" xlink:href=\"#m57c3286073\" y=\"161.270258\"/>\n     <use style=\"fill:#0000ff;stroke:#0000ff;\" x=\"147.116616\" xlink:href=\"#m57c3286073\" y=\"198.774585\"/>\n     <use style=\"fill:#0000ff;stroke:#0000ff;\" x=\"209.08028\" xlink:href=\"#m57c3286073\" y=\"66.903245\"/>\n     <use style=\"fill:#0000ff;stroke:#0000ff;\" x=\"136.932416\" xlink:href=\"#m57c3286073\" y=\"129.374741\"/>\n     <use style=\"fill:#0000ff;stroke:#0000ff;\" x=\"152.374712\" xlink:href=\"#m57c3286073\" y=\"63.319754\"/>\n     <use style=\"fill:#0000ff;stroke:#0000ff;\" x=\"40.471113\" xlink:href=\"#m57c3286073\" y=\"169.466879\"/>\n     <use style=\"fill:#0000ff;stroke:#0000ff;\" x=\"152.835093\" xlink:href=\"#m57c3286073\" y=\"67.830115\"/>\n     <use style=\"fill:#0000ff;stroke:#0000ff;\" x=\"260.427004\" xlink:href=\"#m57c3286073\" y=\"64.867973\"/>\n     <use style=\"fill:#0000ff;stroke:#0000ff;\" x=\"238.879132\" xlink:href=\"#m57c3286073\" y=\"125.974664\"/>\n     <use style=\"fill:#0000ff;stroke:#0000ff;\" x=\"210.271309\" xlink:href=\"#m57c3286073\" y=\"195.560761\"/>\n     <use style=\"fill:#0000ff;stroke:#0000ff;\" x=\"63.189452\" xlink:href=\"#m57c3286073\" y=\"215.880576\"/>\n     <use style=\"fill:#0000ff;stroke:#0000ff;\" x=\"249.085626\" xlink:href=\"#m57c3286073\" y=\"60.710678\"/>\n     <use style=\"fill:#0000ff;stroke:#0000ff;\" x=\"240.384725\" xlink:href=\"#m57c3286073\" y=\"118.304239\"/>\n     <use style=\"fill:#0000ff;stroke:#0000ff;\" x=\"76.530991\" xlink:href=\"#m57c3286073\" y=\"202.846501\"/>\n     <use style=\"fill:#0000ff;stroke:#0000ff;\" x=\"187.156351\" xlink:href=\"#m57c3286073\" y=\"178.449403\"/>\n     <use style=\"fill:#0000ff;stroke:#0000ff;\" x=\"42.294825\" xlink:href=\"#m57c3286073\" y=\"217.072883\"/>\n     <use style=\"fill:#0000ff;stroke:#0000ff;\" x=\"65.083813\" xlink:href=\"#m57c3286073\" y=\"257.008034\"/>\n     <use style=\"fill:#0000ff;stroke:#0000ff;\" x=\"112.348165\" xlink:href=\"#m57c3286073\" y=\"163.243961\"/>\n     <use style=\"fill:#0000ff;stroke:#0000ff;\" x=\"74.832404\" xlink:href=\"#m57c3286073\" y=\"137.331261\"/>\n     <use style=\"fill:#0000ff;stroke:#0000ff;\" x=\"217.14092\" xlink:href=\"#m57c3286073\" y=\"114.572425\"/>\n     <use style=\"fill:#0000ff;stroke:#0000ff;\" x=\"231.17977\" xlink:href=\"#m57c3286073\" y=\"171.318216\"/>\n     <use style=\"fill:#0000ff;stroke:#0000ff;\" x=\"119.038327\" xlink:href=\"#m57c3286073\" y=\"199.7478\"/>\n     <use style=\"fill:#0000ff;stroke:#0000ff;\" x=\"112.923843\" xlink:href=\"#m57c3286073\" y=\"177.112459\"/>\n     <use style=\"fill:#0000ff;stroke:#0000ff;\" x=\"63.882012\" xlink:href=\"#m57c3286073\" y=\"201.675157\"/>\n     <use style=\"fill:#0000ff;stroke:#0000ff;\" x=\"57.321853\" xlink:href=\"#m57c3286073\" y=\"219.035503\"/>\n     <use style=\"fill:#0000ff;stroke:#0000ff;\" x=\"206.189919\" xlink:href=\"#m57c3286073\" y=\"95.073635\"/>\n     <use style=\"fill:#0000ff;stroke:#0000ff;\" x=\"179.392853\" xlink:href=\"#m57c3286073\" y=\"147.757156\"/>\n     <use style=\"fill:#0000ff;stroke:#0000ff;\" x=\"50.626416\" xlink:href=\"#m57c3286073\" y=\"281.551705\"/>\n     <use style=\"fill:#0000ff;stroke:#0000ff;\" x=\"151.041798\" xlink:href=\"#m57c3286073\" y=\"217.007609\"/>\n     <use style=\"fill:#0000ff;stroke:#0000ff;\" x=\"132.545939\" xlink:href=\"#m57c3286073\" y=\"225.099518\"/>\n     <use style=\"fill:#0000ff;stroke:#0000ff;\" x=\"238.212395\" xlink:href=\"#m57c3286073\" y=\"51.575621\"/>\n     <use style=\"fill:#0000ff;stroke:#0000ff;\" x=\"207.402897\" xlink:href=\"#m57c3286073\" y=\"128.210463\"/>\n     <use style=\"fill:#0000ff;stroke:#0000ff;\" x=\"179.989643\" xlink:href=\"#m57c3286073\" y=\"108.079684\"/>\n     <use style=\"fill:#0000ff;stroke:#0000ff;\" x=\"168.227366\" xlink:href=\"#m57c3286073\" y=\"207.425913\"/>\n     <use style=\"fill:#0000ff;stroke:#0000ff;\" x=\"262.154342\" xlink:href=\"#m57c3286073\" y=\"43.164908\"/>\n     <use style=\"fill:#0000ff;stroke:#0000ff;\" x=\"271.049626\" xlink:href=\"#m57c3286073\" y=\"154.749836\"/>\n     <use style=\"fill:#0000ff;stroke:#0000ff;\" x=\"117.482711\" xlink:href=\"#m57c3286073\" y=\"116.300692\"/>\n     <use style=\"fill:#0000ff;stroke:#0000ff;\" x=\"94.237791\" xlink:href=\"#m57c3286073\" y=\"148.392802\"/>\n     <use style=\"fill:#0000ff;stroke:#0000ff;\" x=\"226.009032\" xlink:href=\"#m57c3286073\" y=\"167.745845\"/>\n     <use style=\"fill:#0000ff;stroke:#0000ff;\" x=\"52.523512\" xlink:href=\"#m57c3286073\" y=\"225.663506\"/>\n     <use style=\"fill:#0000ff;stroke:#0000ff;\" x=\"123.771426\" xlink:href=\"#m57c3286073\" y=\"234.0016\"/>\n     <use style=\"fill:#0000ff;stroke:#0000ff;\" x=\"54.02371\" xlink:href=\"#m57c3286073\" y=\"192.711128\"/>\n     <use style=\"fill:#0000ff;stroke:#0000ff;\" x=\"113.058538\" xlink:href=\"#m57c3286073\" y=\"131.314949\"/>\n     <use style=\"fill:#0000ff;stroke:#0000ff;\" x=\"54.108894\" xlink:href=\"#m57c3286073\" y=\"238.775223\"/>\n     <use style=\"fill:#0000ff;stroke:#0000ff;\" x=\"106.167874\" xlink:href=\"#m57c3286073\" y=\"182.865238\"/>\n     <use style=\"fill:#0000ff;stroke:#0000ff;\" x=\"224.509246\" xlink:href=\"#m57c3286073\" y=\"118.653313\"/>\n     <use style=\"fill:#0000ff;stroke:#0000ff;\" x=\"251.807451\" xlink:href=\"#m57c3286073\" y=\"41.34371\"/>\n     <use style=\"fill:#0000ff;stroke:#0000ff;\" x=\"225.105943\" xlink:href=\"#m57c3286073\" y=\"45.892319\"/>\n     <use style=\"fill:#0000ff;stroke:#0000ff;\" x=\"170.461168\" xlink:href=\"#m57c3286073\" y=\"195.457887\"/>\n     <use style=\"fill:#0000ff;stroke:#0000ff;\" x=\"183.293467\" xlink:href=\"#m57c3286073\" y=\"190.961652\"/>\n     <use style=\"fill:#0000ff;stroke:#0000ff;\" x=\"123.029871\" xlink:href=\"#m57c3286073\" y=\"236.762888\"/>\n     <use style=\"fill:#0000ff;stroke:#0000ff;\" x=\"77.414266\" xlink:href=\"#m57c3286073\" y=\"176.399199\"/>\n     <use style=\"fill:#0000ff;stroke:#0000ff;\" x=\"140.729409\" xlink:href=\"#m57c3286073\" y=\"75.685066\"/>\n     <use style=\"fill:#0000ff;stroke:#0000ff;\" x=\"210.948647\" xlink:href=\"#m57c3286073\" y=\"125.322674\"/>\n     <use style=\"fill:#0000ff;stroke:#0000ff;\" x=\"52.334387\" xlink:href=\"#m57c3286073\" y=\"233.004447\"/>\n     <use style=\"fill:#0000ff;stroke:#0000ff;\" x=\"42.353865\" xlink:href=\"#m57c3286073\" y=\"227.604239\"/>\n     <use style=\"fill:#0000ff;stroke:#0000ff;\" x=\"219.87987\" xlink:href=\"#m57c3286073\" y=\"49.736875\"/>\n     <use style=\"fill:#0000ff;stroke:#0000ff;\" x=\"108.461683\" xlink:href=\"#m57c3286073\" y=\"119.69006\"/>\n     <use style=\"fill:#0000ff;stroke:#0000ff;\" x=\"203.452584\" xlink:href=\"#m57c3286073\" y=\"168.731665\"/>\n     <use style=\"fill:#0000ff;stroke:#0000ff;\" x=\"211.38485\" xlink:href=\"#m57c3286073\" y=\"45.391933\"/>\n     <use style=\"fill:#0000ff;stroke:#0000ff;\" x=\"258.319363\" xlink:href=\"#m57c3286073\" y=\"143.53228\"/>\n     <use style=\"fill:#0000ff;stroke:#0000ff;\" x=\"132.226776\" xlink:href=\"#m57c3286073\" y=\"232.969474\"/>\n     <use style=\"fill:#0000ff;stroke:#0000ff;\" x=\"122.308792\" xlink:href=\"#m57c3286073\" y=\"105.307714\"/>\n     <use style=\"fill:#0000ff;stroke:#0000ff;\" x=\"228.407653\" xlink:href=\"#m57c3286073\" y=\"50.148127\"/>\n     <use style=\"fill:#0000ff;stroke:#0000ff;\" x=\"218.445824\" xlink:href=\"#m57c3286073\" y=\"186.272316\"/>\n     <use style=\"fill:#0000ff;stroke:#0000ff;\" x=\"191.95801\" xlink:href=\"#m57c3286073\" y=\"162.088426\"/>\n     <use style=\"fill:#0000ff;stroke:#0000ff;\" x=\"229.449344\" xlink:href=\"#m57c3286073\" y=\"99.003354\"/>\n     <use style=\"fill:#0000ff;stroke:#0000ff;\" x=\"189.495737\" xlink:href=\"#m57c3286073\" y=\"115.954043\"/>\n     <use style=\"fill:#0000ff;stroke:#0000ff;\" x=\"264.12931\" xlink:href=\"#m57c3286073\" y=\"163.617508\"/>\n     <use style=\"fill:#0000ff;stroke:#0000ff;\" x=\"116.493143\" xlink:href=\"#m57c3286073\" y=\"133.818606\"/>\n     <use style=\"fill:#0000ff;stroke:#0000ff;\" x=\"212.23361\" xlink:href=\"#m57c3286073\" y=\"34.460795\"/>\n     <use style=\"fill:#0000ff;stroke:#0000ff;\" x=\"262.327392\" xlink:href=\"#m57c3286073\" y=\"113.632839\"/>\n     <use style=\"fill:#0000ff;stroke:#0000ff;\" x=\"116.609092\" xlink:href=\"#m57c3286073\" y=\"137.549657\"/>\n     <use style=\"fill:#0000ff;stroke:#0000ff;\" x=\"182.254947\" xlink:href=\"#m57c3286073\" y=\"160.273475\"/>\n     <use style=\"fill:#0000ff;stroke:#0000ff;\" x=\"124.021095\" xlink:href=\"#m57c3286073\" y=\"238.796074\"/>\n     <use style=\"fill:#0000ff;stroke:#0000ff;\" x=\"146.719278\" xlink:href=\"#m57c3286073\" y=\"115.54185\"/>\n     <use style=\"fill:#0000ff;stroke:#0000ff;\" x=\"55.202581\" xlink:href=\"#m57c3286073\" y=\"151.9376\"/>\n     <use style=\"fill:#0000ff;stroke:#0000ff;\" x=\"42.02486\" xlink:href=\"#m57c3286073\" y=\"117.281107\"/>\n     <use style=\"fill:#0000ff;stroke:#0000ff;\" x=\"217.299521\" xlink:href=\"#m57c3286073\" y=\"155.443657\"/>\n     <use style=\"fill:#0000ff;stroke:#0000ff;\" x=\"144.640261\" xlink:href=\"#m57c3286073\" y=\"78.044336\"/>\n     <use style=\"fill:#0000ff;stroke:#0000ff;\" x=\"184.907132\" xlink:href=\"#m57c3286073\" y=\"203.72296\"/>\n     <use style=\"fill:#0000ff;stroke:#0000ff;\" x=\"212.63584\" xlink:href=\"#m57c3286073\" y=\"154.674687\"/>\n     <use style=\"fill:#0000ff;stroke:#0000ff;\" x=\"136.567765\" xlink:href=\"#m57c3286073\" y=\"227.413538\"/>\n     <use style=\"fill:#0000ff;stroke:#0000ff;\" x=\"124.482174\" xlink:href=\"#m57c3286073\" y=\"217.646788\"/>\n     <use style=\"fill:#0000ff;stroke:#0000ff;\" x=\"77.464344\" xlink:href=\"#m57c3286073\" y=\"129.510501\"/>\n     <use style=\"fill:#0000ff;stroke:#0000ff;\" x=\"225.402134\" xlink:href=\"#m57c3286073\" y=\"59.648757\"/>\n     <use style=\"fill:#0000ff;stroke:#0000ff;\" x=\"234.674829\" xlink:href=\"#m57c3286073\" y=\"176.891347\"/>\n     <use style=\"fill:#0000ff;stroke:#0000ff;\" x=\"211.277187\" xlink:href=\"#m57c3286073\" y=\"77.213148\"/>\n     <use style=\"fill:#0000ff;stroke:#0000ff;\" x=\"244.679625\" xlink:href=\"#m57c3286073\" y=\"148.123214\"/>\n     <use style=\"fill:#0000ff;stroke:#0000ff;\" x=\"190.878788\" xlink:href=\"#m57c3286073\" y=\"71.137394\"/>\n     <use style=\"fill:#0000ff;stroke:#0000ff;\" x=\"202.245559\" xlink:href=\"#m57c3286073\" y=\"72.911457\"/>\n     <use style=\"fill:#0000ff;stroke:#0000ff;\" x=\"83.144036\" xlink:href=\"#m57c3286073\" y=\"196.009777\"/>\n     <use style=\"fill:#0000ff;stroke:#0000ff;\" x=\"219.189519\" xlink:href=\"#m57c3286073\" y=\"74.079761\"/>\n     <use style=\"fill:#0000ff;stroke:#0000ff;\" x=\"116.542501\" xlink:href=\"#m57c3286073\" y=\"206.427256\"/>\n     <use style=\"fill:#0000ff;stroke:#0000ff;\" x=\"141.136227\" xlink:href=\"#m57c3286073\" y=\"216.091168\"/>\n     <use style=\"fill:#0000ff;stroke:#0000ff;\" x=\"112.940758\" xlink:href=\"#m57c3286073\" y=\"137.533837\"/>\n     <use style=\"fill:#0000ff;stroke:#0000ff;\" x=\"171.99323\" xlink:href=\"#m57c3286073\" y=\"87.97454\"/>\n     <use style=\"fill:#0000ff;stroke:#0000ff;\" x=\"193.396943\" xlink:href=\"#m57c3286073\" y=\"38.90066\"/>\n     <use style=\"fill:#0000ff;stroke:#0000ff;\" x=\"173.714206\" xlink:href=\"#m57c3286073\" y=\"109.876815\"/>\n    </g>\n   </g>\n   <g id=\"patch_3\">\n    <path d=\"M 28.942188 293.90625 \nL 28.942188 22.10625 \n\" style=\"fill:none;stroke:#000000;stroke-linecap:square;stroke-linejoin:miter;stroke-width:0.8;\"/>\n   </g>\n   <g id=\"patch_4\">\n    <path d=\"M 282.578551 293.90625 \nL 282.578551 22.10625 \n\" style=\"fill:none;stroke:#000000;stroke-linecap:square;stroke-linejoin:miter;stroke-width:0.8;\"/>\n   </g>\n   <g id=\"patch_5\">\n    <path d=\"M 28.942188 293.90625 \nL 282.578551 293.90625 \n\" style=\"fill:none;stroke:#000000;stroke-linecap:square;stroke-linejoin:miter;stroke-width:0.8;\"/>\n   </g>\n   <g id=\"patch_6\">\n    <path d=\"M 28.942188 22.10625 \nL 282.578551 22.10625 \n\" style=\"fill:none;stroke:#000000;stroke-linecap:square;stroke-linejoin:miter;stroke-width:0.8;\"/>\n   </g>\n   <g id=\"text_14\">\n    <!-- x_1 -->\n    <defs>\n     <path d=\"M 54.890625 54.6875 \nL 35.109375 28.078125 \nL 55.90625 0 \nL 45.3125 0 \nL 29.390625 21.484375 \nL 13.484375 0 \nL 2.875 0 \nL 24.125 28.609375 \nL 4.6875 54.6875 \nL 15.28125 54.6875 \nL 29.78125 35.203125 \nL 44.28125 54.6875 \nz\n\" id=\"DejaVuSans-120\"/>\n     <path d=\"M 50.984375 -16.609375 \nL 50.984375 -23.578125 \nL -0.984375 -23.578125 \nL -0.984375 -16.609375 \nz\n\" id=\"DejaVuSans-95\"/>\n    </defs>\n    <g transform=\"translate(145.391619 16.10625)scale(0.12 -0.12)\">\n     <use xlink:href=\"#DejaVuSans-120\"/>\n     <use x=\"59.179688\" xlink:href=\"#DejaVuSans-95\"/>\n     <use x=\"109.179688\" xlink:href=\"#DejaVuSans-49\"/>\n    </g>\n   </g>\n  </g>\n  <g id=\"axes_2\">\n   <g id=\"patch_7\">\n    <path d=\"M 333.305824 293.90625 \nL 586.942187 293.90625 \nL 586.942187 22.10625 \nL 333.305824 22.10625 \nz\n\" style=\"fill:#ffffff;\"/>\n   </g>\n   <g id=\"matplotlib.axis_3\">\n    <g id=\"xtick_7\">\n     <g id=\"line2d_15\">\n      <g>\n       <use style=\"stroke:#000000;stroke-width:0.8;\" x=\"338.183097\" xlink:href=\"#m6702eaa9f8\" y=\"293.90625\"/>\n      </g>\n     </g>\n     <g id=\"text_15\">\n      <!-- 0.0 -->\n      <g transform=\"translate(330.231535 308.504687)scale(0.1 -0.1)\">\n       <use xlink:href=\"#DejaVuSans-48\"/>\n       <use x=\"63.623047\" xlink:href=\"#DejaVuSans-46\"/>\n       <use x=\"95.410156\" xlink:href=\"#DejaVuSans-48\"/>\n      </g>\n     </g>\n    </g>\n    <g id=\"xtick_8\">\n     <g id=\"line2d_16\">\n      <g>\n       <use style=\"stroke:#000000;stroke-width:0.8;\" x=\"386.152905\" xlink:href=\"#m6702eaa9f8\" y=\"293.90625\"/>\n      </g>\n     </g>\n     <g id=\"text_16\">\n      <!-- 0.2 -->\n      <g transform=\"translate(378.201342 308.504687)scale(0.1 -0.1)\">\n       <use xlink:href=\"#DejaVuSans-48\"/>\n       <use x=\"63.623047\" xlink:href=\"#DejaVuSans-46\"/>\n       <use x=\"95.410156\" xlink:href=\"#DejaVuSans-50\"/>\n      </g>\n     </g>\n    </g>\n    <g id=\"xtick_9\">\n     <g id=\"line2d_17\">\n      <g>\n       <use style=\"stroke:#000000;stroke-width:0.8;\" x=\"434.122712\" xlink:href=\"#m6702eaa9f8\" y=\"293.90625\"/>\n      </g>\n     </g>\n     <g id=\"text_17\">\n      <!-- 0.4 -->\n      <g transform=\"translate(426.17115 308.504687)scale(0.1 -0.1)\">\n       <use xlink:href=\"#DejaVuSans-48\"/>\n       <use x=\"63.623047\" xlink:href=\"#DejaVuSans-46\"/>\n       <use x=\"95.410156\" xlink:href=\"#DejaVuSans-52\"/>\n      </g>\n     </g>\n    </g>\n    <g id=\"xtick_10\">\n     <g id=\"line2d_18\">\n      <g>\n       <use style=\"stroke:#000000;stroke-width:0.8;\" x=\"482.09252\" xlink:href=\"#m6702eaa9f8\" y=\"293.90625\"/>\n      </g>\n     </g>\n     <g id=\"text_18\">\n      <!-- 0.6 -->\n      <g transform=\"translate(474.140957 308.504687)scale(0.1 -0.1)\">\n       <use xlink:href=\"#DejaVuSans-48\"/>\n       <use x=\"63.623047\" xlink:href=\"#DejaVuSans-46\"/>\n       <use x=\"95.410156\" xlink:href=\"#DejaVuSans-54\"/>\n      </g>\n     </g>\n    </g>\n    <g id=\"xtick_11\">\n     <g id=\"line2d_19\">\n      <g>\n       <use style=\"stroke:#000000;stroke-width:0.8;\" x=\"530.062327\" xlink:href=\"#m6702eaa9f8\" y=\"293.90625\"/>\n      </g>\n     </g>\n     <g id=\"text_19\">\n      <!-- 0.8 -->\n      <g transform=\"translate(522.110765 308.504687)scale(0.1 -0.1)\">\n       <use xlink:href=\"#DejaVuSans-48\"/>\n       <use x=\"63.623047\" xlink:href=\"#DejaVuSans-46\"/>\n       <use x=\"95.410156\" xlink:href=\"#DejaVuSans-56\"/>\n      </g>\n     </g>\n    </g>\n    <g id=\"xtick_12\">\n     <g id=\"line2d_20\">\n      <g>\n       <use style=\"stroke:#000000;stroke-width:0.8;\" x=\"578.032135\" xlink:href=\"#m6702eaa9f8\" y=\"293.90625\"/>\n      </g>\n     </g>\n     <g id=\"text_20\">\n      <!-- 1.0 -->\n      <g transform=\"translate(570.080572 308.504687)scale(0.1 -0.1)\">\n       <use xlink:href=\"#DejaVuSans-49\"/>\n       <use x=\"63.623047\" xlink:href=\"#DejaVuSans-46\"/>\n       <use x=\"95.410156\" xlink:href=\"#DejaVuSans-48\"/>\n      </g>\n     </g>\n    </g>\n   </g>\n   <g id=\"matplotlib.axis_4\">\n    <g id=\"ytick_8\">\n     <g id=\"line2d_21\">\n      <g>\n       <use style=\"stroke:#000000;stroke-width:0.8;\" x=\"333.305824\" xlink:href=\"#mca01b4b1b8\" y=\"287.39887\"/>\n      </g>\n     </g>\n    </g>\n    <g id=\"ytick_9\">\n     <g id=\"line2d_22\">\n      <g>\n       <use style=\"stroke:#000000;stroke-width:0.8;\" x=\"333.305824\" xlink:href=\"#mca01b4b1b8\" y=\"245.999319\"/>\n      </g>\n     </g>\n    </g>\n    <g id=\"ytick_10\">\n     <g id=\"line2d_23\">\n      <g>\n       <use style=\"stroke:#000000;stroke-width:0.8;\" x=\"333.305824\" xlink:href=\"#mca01b4b1b8\" y=\"204.599768\"/>\n      </g>\n     </g>\n    </g>\n    <g id=\"ytick_11\">\n     <g id=\"line2d_24\">\n      <g>\n       <use style=\"stroke:#000000;stroke-width:0.8;\" x=\"333.305824\" xlink:href=\"#mca01b4b1b8\" y=\"163.200217\"/>\n      </g>\n     </g>\n    </g>\n    <g id=\"ytick_12\">\n     <g id=\"line2d_25\">\n      <g>\n       <use style=\"stroke:#000000;stroke-width:0.8;\" x=\"333.305824\" xlink:href=\"#mca01b4b1b8\" y=\"121.800666\"/>\n      </g>\n     </g>\n    </g>\n    <g id=\"ytick_13\">\n     <g id=\"line2d_26\">\n      <g>\n       <use style=\"stroke:#000000;stroke-width:0.8;\" x=\"333.305824\" xlink:href=\"#mca01b4b1b8\" y=\"80.401116\"/>\n      </g>\n     </g>\n    </g>\n    <g id=\"ytick_14\">\n     <g id=\"line2d_27\">\n      <g>\n       <use style=\"stroke:#000000;stroke-width:0.8;\" x=\"333.305824\" xlink:href=\"#mca01b4b1b8\" y=\"39.001565\"/>\n      </g>\n     </g>\n    </g>\n   </g>\n   <g id=\"line2d_28\">\n    <g clip-path=\"url(#p1ba0ab3137)\">\n     <use style=\"fill:#0000ff;stroke:#0000ff;\" x=\"414.49999\" xlink:href=\"#m57c3286073\" y=\"151.108367\"/>\n     <use style=\"fill:#0000ff;stroke:#0000ff;\" x=\"390.470997\" xlink:href=\"#m57c3286073\" y=\"161.270258\"/>\n     <use style=\"fill:#0000ff;stroke:#0000ff;\" x=\"540.840791\" xlink:href=\"#m57c3286073\" y=\"198.774585\"/>\n     <use style=\"fill:#0000ff;stroke:#0000ff;\" x=\"410.657007\" xlink:href=\"#m57c3286073\" y=\"66.903245\"/>\n     <use style=\"fill:#0000ff;stroke:#0000ff;\" x=\"443.289904\" xlink:href=\"#m57c3286073\" y=\"129.374741\"/>\n     <use style=\"fill:#0000ff;stroke:#0000ff;\" x=\"360.108798\" xlink:href=\"#m57c3286073\" y=\"63.319754\"/>\n     <use style=\"fill:#0000ff;stroke:#0000ff;\" x=\"410.372662\" xlink:href=\"#m57c3286073\" y=\"169.466879\"/>\n     <use style=\"fill:#0000ff;stroke:#0000ff;\" x=\"358.736914\" xlink:href=\"#m57c3286073\" y=\"67.830115\"/>\n     <use style=\"fill:#0000ff;stroke:#0000ff;\" x=\"420.622403\" xlink:href=\"#m57c3286073\" y=\"64.867973\"/>\n     <use style=\"fill:#0000ff;stroke:#0000ff;\" x=\"508.308264\" xlink:href=\"#m57c3286073\" y=\"125.974664\"/>\n     <use style=\"fill:#0000ff;stroke:#0000ff;\" x=\"571.788446\" xlink:href=\"#m57c3286073\" y=\"195.560761\"/>\n     <use style=\"fill:#0000ff;stroke:#0000ff;\" x=\"488.142673\" xlink:href=\"#m57c3286073\" y=\"215.880576\"/>\n     <use style=\"fill:#0000ff;stroke:#0000ff;\" x=\"402.775292\" xlink:href=\"#m57c3286073\" y=\"60.710678\"/>\n     <use style=\"fill:#0000ff;stroke:#0000ff;\" x=\"495.694072\" xlink:href=\"#m57c3286073\" y=\"118.304239\"/>\n     <use style=\"fill:#0000ff;stroke:#0000ff;\" x=\"488.567921\" xlink:href=\"#m57c3286073\" y=\"202.846501\"/>\n     <use style=\"fill:#0000ff;stroke:#0000ff;\" x=\"536.21499\" xlink:href=\"#m57c3286073\" y=\"178.449403\"/>\n     <use style=\"fill:#0000ff;stroke:#0000ff;\" x=\"466.189085\" xlink:href=\"#m57c3286073\" y=\"217.072883\"/>\n     <use style=\"fill:#0000ff;stroke:#0000ff;\" x=\"556.714752\" xlink:href=\"#m57c3286073\" y=\"257.008034\"/>\n     <use style=\"fill:#0000ff;stroke:#0000ff;\" x=\"437.841253\" xlink:href=\"#m57c3286073\" y=\"163.243961\"/>\n     <use style=\"fill:#0000ff;stroke:#0000ff;\" x=\"406.790636\" xlink:href=\"#m57c3286073\" y=\"137.331261\"/>\n     <use style=\"fill:#0000ff;stroke:#0000ff;\" x=\"462.666605\" xlink:href=\"#m57c3286073\" y=\"114.572425\"/>\n     <use style=\"fill:#0000ff;stroke:#0000ff;\" x=\"559.431899\" xlink:href=\"#m57c3286073\" y=\"171.318216\"/>\n     <use style=\"fill:#0000ff;stroke:#0000ff;\" x=\"511.812517\" xlink:href=\"#m57c3286073\" y=\"199.7478\"/>\n     <use style=\"fill:#0000ff;stroke:#0000ff;\" x=\"456.647655\" xlink:href=\"#m57c3286073\" y=\"177.112459\"/>\n     <use style=\"fill:#0000ff;stroke:#0000ff;\" x=\"457.507119\" xlink:href=\"#m57c3286073\" y=\"201.675157\"/>\n     <use style=\"fill:#0000ff;stroke:#0000ff;\" x=\"493.778492\" xlink:href=\"#m57c3286073\" y=\"219.035503\"/>\n     <use style=\"fill:#0000ff;stroke:#0000ff;\" x=\"445.580579\" xlink:href=\"#m57c3286073\" y=\"95.073635\"/>\n     <use style=\"fill:#0000ff;stroke:#0000ff;\" x=\"470.253444\" xlink:href=\"#m57c3286073\" y=\"147.757156\"/>\n     <use style=\"fill:#0000ff;stroke:#0000ff;\" x=\"571.118535\" xlink:href=\"#m57c3286073\" y=\"281.551705\"/>\n     <use style=\"fill:#0000ff;stroke:#0000ff;\" x=\"561.82163\" xlink:href=\"#m57c3286073\" y=\"217.007609\"/>\n     <use style=\"fill:#0000ff;stroke:#0000ff;\" x=\"539.820689\" xlink:href=\"#m57c3286073\" y=\"225.099518\"/>\n     <use style=\"fill:#0000ff;stroke:#0000ff;\" x=\"368.655501\" xlink:href=\"#m57c3286073\" y=\"51.575621\"/>\n     <use style=\"fill:#0000ff;stroke:#0000ff;\" x=\"471.664149\" xlink:href=\"#m57c3286073\" y=\"128.210463\"/>\n     <use style=\"fill:#0000ff;stroke:#0000ff;\" x=\"426.070311\" xlink:href=\"#m57c3286073\" y=\"108.079684\"/>\n     <use style=\"fill:#0000ff;stroke:#0000ff;\" x=\"556.876367\" xlink:href=\"#m57c3286073\" y=\"207.425913\"/>\n     <use style=\"fill:#0000ff;stroke:#0000ff;\" x=\"413.41874\" xlink:href=\"#m57c3286073\" y=\"43.164908\"/>\n     <use style=\"fill:#0000ff;stroke:#0000ff;\" x=\"561.426408\" xlink:href=\"#m57c3286073\" y=\"154.749836\"/>\n     <use style=\"fill:#0000ff;stroke:#0000ff;\" x=\"395.35018\" xlink:href=\"#m57c3286073\" y=\"116.300692\"/>\n     <use style=\"fill:#0000ff;stroke:#0000ff;\" x=\"439.01342\" xlink:href=\"#m57c3286073\" y=\"148.392802\"/>\n     <use style=\"fill:#0000ff;stroke:#0000ff;\" x=\"568.429214\" xlink:href=\"#m57c3286073\" y=\"167.745845\"/>\n     <use style=\"fill:#0000ff;stroke:#0000ff;\" x=\"481.010007\" xlink:href=\"#m57c3286073\" y=\"225.663506\"/>\n     <use style=\"fill:#0000ff;stroke:#0000ff;\" x=\"561.758047\" xlink:href=\"#m57c3286073\" y=\"234.0016\"/>\n     <use style=\"fill:#0000ff;stroke:#0000ff;\" x=\"467.425821\" xlink:href=\"#m57c3286073\" y=\"192.711128\"/>\n     <use style=\"fill:#0000ff;stroke:#0000ff;\" x=\"392.87752\" xlink:href=\"#m57c3286073\" y=\"131.314949\"/>\n     <use style=\"fill:#0000ff;stroke:#0000ff;\" x=\"509.186568\" xlink:href=\"#m57c3286073\" y=\"238.775223\"/>\n     <use style=\"fill:#0000ff;stroke:#0000ff;\" x=\"463.281997\" xlink:href=\"#m57c3286073\" y=\"182.865238\"/>\n     <use style=\"fill:#0000ff;stroke:#0000ff;\" x=\"459.42035\" xlink:href=\"#m57c3286073\" y=\"118.653313\"/>\n     <use style=\"fill:#0000ff;stroke:#0000ff;\" x=\"370.918777\" xlink:href=\"#m57c3286073\" y=\"41.34371\"/>\n     <use style=\"fill:#0000ff;stroke:#0000ff;\" x=\"372.941891\" xlink:href=\"#m57c3286073\" y=\"45.892319\"/>\n     <use style=\"fill:#0000ff;stroke:#0000ff;\" x=\"561.147989\" xlink:href=\"#m57c3286073\" y=\"195.457887\"/>\n     <use style=\"fill:#0000ff;stroke:#0000ff;\" x=\"567.492752\" xlink:href=\"#m57c3286073\" y=\"190.961652\"/>\n     <use style=\"fill:#0000ff;stroke:#0000ff;\" x=\"569.860693\" xlink:href=\"#m57c3286073\" y=\"236.762888\"/>\n     <use style=\"fill:#0000ff;stroke:#0000ff;\" x=\"423.998503\" xlink:href=\"#m57c3286073\" y=\"176.399199\"/>\n     <use style=\"fill:#0000ff;stroke:#0000ff;\" x=\"349.185022\" xlink:href=\"#m57c3286073\" y=\"75.685066\"/>\n     <use style=\"fill:#0000ff;stroke:#0000ff;\" x=\"471.042021\" xlink:href=\"#m57c3286073\" y=\"125.322674\"/>\n     <use style=\"fill:#0000ff;stroke:#0000ff;\" x=\"514.786215\" xlink:href=\"#m57c3286073\" y=\"233.004447\"/>\n     <use style=\"fill:#0000ff;stroke:#0000ff;\" x=\"493.61642\" xlink:href=\"#m57c3286073\" y=\"227.604239\"/>\n     <use style=\"fill:#0000ff;stroke:#0000ff;\" x=\"350.87899\" xlink:href=\"#m57c3286073\" y=\"49.736875\"/>\n     <use style=\"fill:#0000ff;stroke:#0000ff;\" x=\"394.039821\" xlink:href=\"#m57c3286073\" y=\"119.69006\"/>\n     <use style=\"fill:#0000ff;stroke:#0000ff;\" x=\"507.488757\" xlink:href=\"#m57c3286073\" y=\"168.731665\"/>\n     <use style=\"fill:#0000ff;stroke:#0000ff;\" x=\"351.395141\" xlink:href=\"#m57c3286073\" y=\"45.391933\"/>\n     <use style=\"fill:#0000ff;stroke:#0000ff;\" x=\"541.214583\" xlink:href=\"#m57c3286073\" y=\"143.53228\"/>\n     <use style=\"fill:#0000ff;stroke:#0000ff;\" x=\"575.413262\" xlink:href=\"#m57c3286073\" y=\"232.969474\"/>\n     <use style=\"fill:#0000ff;stroke:#0000ff;\" x=\"397.617603\" xlink:href=\"#m57c3286073\" y=\"105.307714\"/>\n     <use style=\"fill:#0000ff;stroke:#0000ff;\" x=\"351.162601\" xlink:href=\"#m57c3286073\" y=\"50.148127\"/>\n     <use style=\"fill:#0000ff;stroke:#0000ff;\" x=\"573.161594\" xlink:href=\"#m57c3286073\" y=\"186.272316\"/>\n     <use style=\"fill:#0000ff;stroke:#0000ff;\" x=\"522.199185\" xlink:href=\"#m57c3286073\" y=\"162.088426\"/>\n     <use style=\"fill:#0000ff;stroke:#0000ff;\" x=\"447.122003\" xlink:href=\"#m57c3286073\" y=\"99.003354\"/>\n     <use style=\"fill:#0000ff;stroke:#0000ff;\" x=\"452.892492\" xlink:href=\"#m57c3286073\" y=\"115.954043\"/>\n     <use style=\"fill:#0000ff;stroke:#0000ff;\" x=\"557.765612\" xlink:href=\"#m57c3286073\" y=\"163.617508\"/>\n     <use style=\"fill:#0000ff;stroke:#0000ff;\" x=\"423.5286\" xlink:href=\"#m57c3286073\" y=\"133.818606\"/>\n     <use style=\"fill:#0000ff;stroke:#0000ff;\" x=\"350.938228\" xlink:href=\"#m57c3286073\" y=\"34.460795\"/>\n     <use style=\"fill:#0000ff;stroke:#0000ff;\" x=\"485.44329\" xlink:href=\"#m57c3286073\" y=\"113.632839\"/>\n     <use style=\"fill:#0000ff;stroke:#0000ff;\" x=\"413.146657\" xlink:href=\"#m57c3286073\" y=\"137.549657\"/>\n     <use style=\"fill:#0000ff;stroke:#0000ff;\" x=\"501.654378\" xlink:href=\"#m57c3286073\" y=\"160.273475\"/>\n     <use style=\"fill:#0000ff;stroke:#0000ff;\" x=\"565.548\" xlink:href=\"#m57c3286073\" y=\"238.796074\"/>\n     <use style=\"fill:#0000ff;stroke:#0000ff;\" x=\"424.667834\" xlink:href=\"#m57c3286073\" y=\"115.54185\"/>\n     <use style=\"fill:#0000ff;stroke:#0000ff;\" x=\"397.425367\" xlink:href=\"#m57c3286073\" y=\"151.9376\"/>\n     <use style=\"fill:#0000ff;stroke:#0000ff;\" x=\"350.883552\" xlink:href=\"#m57c3286073\" y=\"117.281107\"/>\n     <use style=\"fill:#0000ff;stroke:#0000ff;\" x=\"537.655933\" xlink:href=\"#m57c3286073\" y=\"155.443657\"/>\n     <use style=\"fill:#0000ff;stroke:#0000ff;\" x=\"356.982419\" xlink:href=\"#m57c3286073\" y=\"78.044336\"/>\n     <use style=\"fill:#0000ff;stroke:#0000ff;\" x=\"566.56147\" xlink:href=\"#m57c3286073\" y=\"203.72296\"/>\n     <use style=\"fill:#0000ff;stroke:#0000ff;\" x=\"507.551926\" xlink:href=\"#m57c3286073\" y=\"154.674687\"/>\n     <use style=\"fill:#0000ff;stroke:#0000ff;\" x=\"556.813373\" xlink:href=\"#m57c3286073\" y=\"227.413538\"/>\n     <use style=\"fill:#0000ff;stroke:#0000ff;\" x=\"533.525956\" xlink:href=\"#m57c3286073\" y=\"217.646788\"/>\n     <use style=\"fill:#0000ff;stroke:#0000ff;\" x=\"383.927493\" xlink:href=\"#m57c3286073\" y=\"129.510501\"/>\n     <use style=\"fill:#0000ff;stroke:#0000ff;\" x=\"380.373378\" xlink:href=\"#m57c3286073\" y=\"59.648757\"/>\n     <use style=\"fill:#0000ff;stroke:#0000ff;\" x=\"568.771029\" xlink:href=\"#m57c3286073\" y=\"176.891347\"/>\n     <use style=\"fill:#0000ff;stroke:#0000ff;\" x=\"407.988276\" xlink:href=\"#m57c3286073\" y=\"77.213148\"/>\n     <use style=\"fill:#0000ff;stroke:#0000ff;\" x=\"527.810991\" xlink:href=\"#m57c3286073\" y=\"148.123214\"/>\n     <use style=\"fill:#0000ff;stroke:#0000ff;\" x=\"379.14695\" xlink:href=\"#m57c3286073\" y=\"71.137394\"/>\n     <use style=\"fill:#0000ff;stroke:#0000ff;\" x=\"409.919601\" xlink:href=\"#m57c3286073\" y=\"72.911457\"/>\n     <use style=\"fill:#0000ff;stroke:#0000ff;\" x=\"499.71906\" xlink:href=\"#m57c3286073\" y=\"196.009777\"/>\n     <use style=\"fill:#0000ff;stroke:#0000ff;\" x=\"397.766319\" xlink:href=\"#m57c3286073\" y=\"74.079761\"/>\n     <use style=\"fill:#0000ff;stroke:#0000ff;\" x=\"518.517714\" xlink:href=\"#m57c3286073\" y=\"206.427256\"/>\n     <use style=\"fill:#0000ff;stroke:#0000ff;\" x=\"549.071818\" xlink:href=\"#m57c3286073\" y=\"216.091168\"/>\n     <use style=\"fill:#0000ff;stroke:#0000ff;\" x=\"415.024121\" xlink:href=\"#m57c3286073\" y=\"137.533837\"/>\n     <use style=\"fill:#0000ff;stroke:#0000ff;\" x=\"409.827894\" xlink:href=\"#m57c3286073\" y=\"87.97454\"/>\n     <use style=\"fill:#0000ff;stroke:#0000ff;\" x=\"344.834749\" xlink:href=\"#m57c3286073\" y=\"38.90066\"/>\n     <use style=\"fill:#0000ff;stroke:#0000ff;\" x=\"439.557686\" xlink:href=\"#m57c3286073\" y=\"109.876815\"/>\n    </g>\n   </g>\n   <g id=\"patch_8\">\n    <path d=\"M 333.305824 293.90625 \nL 333.305824 22.10625 \n\" style=\"fill:none;stroke:#000000;stroke-linecap:square;stroke-linejoin:miter;stroke-width:0.8;\"/>\n   </g>\n   <g id=\"patch_9\">\n    <path d=\"M 586.942187 293.90625 \nL 586.942187 22.10625 \n\" style=\"fill:none;stroke:#000000;stroke-linecap:square;stroke-linejoin:miter;stroke-width:0.8;\"/>\n   </g>\n   <g id=\"patch_10\">\n    <path d=\"M 333.305824 293.90625 \nL 586.942187 293.90625 \n\" style=\"fill:none;stroke:#000000;stroke-linecap:square;stroke-linejoin:miter;stroke-width:0.8;\"/>\n   </g>\n   <g id=\"patch_11\">\n    <path d=\"M 333.305824 22.10625 \nL 586.942187 22.10625 \n\" style=\"fill:none;stroke:#000000;stroke-linecap:square;stroke-linejoin:miter;stroke-width:0.8;\"/>\n   </g>\n   <g id=\"text_21\">\n    <!-- x_2 -->\n    <g transform=\"translate(449.755256 16.10625)scale(0.12 -0.12)\">\n     <use xlink:href=\"#DejaVuSans-120\"/>\n     <use x=\"59.179688\" xlink:href=\"#DejaVuSans-95\"/>\n     <use x=\"109.179688\" xlink:href=\"#DejaVuSans-50\"/>\n    </g>\n   </g>\n  </g>\n </g>\n <defs>\n  <clipPath id=\"pdb55dc2a9a\">\n   <rect height=\"271.8\" width=\"253.636364\" x=\"28.942188\" y=\"22.10625\"/>\n  </clipPath>\n  <clipPath id=\"p1ba0ab3137\">\n   <rect height=\"271.8\" width=\"253.636364\" x=\"333.305824\" y=\"22.10625\"/>\n  </clipPath>\n </defs>\n</svg>\n",
      "image/png": "[encoded data removed]"
     },
     "metadata": {
      "needs_background": "light"
     }
    }
   ],
   "source": [
    "f, (ax1, ax2) = plt.subplots(1, 2, figsize=(10, 5), sharey=True)\n",
    "ax1.set_title('x_1')\n",
    "ax1.plot(x1, y, '.b')\n",
    "ax2.set_title('x_2')\n",
    "ax2.plot(x2, y, '.b');"
   ]
  },
  {
   "cell_type": "markdown",
   "metadata": {},
   "source": [
    "Note that, for our gradients, when having multiple predictors $x_j$ with $j \\in 1,\\ldots, k$\n",
    "\n",
    "$$ \\frac{dJ}{dm_j}J(m_j,b) = -2\\sum_{i = 1}^n x_{j,i}(y_i - (\\sum_{j=1}^km{x_{j,i}} + b)) = -2\\sum_{i = 1}^n x_{j,i}*\\epsilon_i$$\n",
    "$$ \\frac{dJ}{db}J(m_j,b) = -2\\sum_{i = 1}^n(y_i - (\\sum_{j=1}^km{x_{j,i}} + b)) = -2\\sum_{i = 1}^n \\epsilon_i $$\n",
    "    \n",
    "\n",
    "So we'll have one gradient per predictor along with the gradient for the intercept!\n",
    "\n",
    "Create the `step_gradient_multi` function below. As we said before, this means that we have more than one feature that we are using as an independent variable in the regression. This function will have the same inputs as `step_gradient`, but it will be able to handle having more than one value for m. It should return the final values for b and m in the form of a tuple.\n",
    "\n",
    "- `b_current` refers to the y-intercept at the current step\n",
    "- `m_current` refers to the slope at the current step\n",
    "- `points` are the data points to which we want to fit a line\n",
    "\n",
    "You might have to refactor your `error` at function if you want to use it with multiple m values."
   ]
  },
  {
   "cell_type": "code",
   "execution_count": 11,
   "metadata": {
    "collapsed": true,
    "pycharm": {
     "is_executing": false
    }
   },
   "outputs": [],
   "source": [
    "T = np.transpose\n",
    "\n",
    "def error_at_multi(point, b, m):\n",
    "    \"\"\"\n",
    "    :param point: data is given as [(y, x_1, x_2, ..., x_n)], so point is (y, x_1, x_2, ..., x_n)\n",
    "    :param b: y-intercept at point (y, x_1, x_2, ..., x_n)\n",
    "    :param m: slopes m_1, m_2, ..., m_n corresonding to x_1, x_2, ..., x_n\n",
    "    :return: error at point (y, x_1, x_2, ..., x_n)\n",
    "    \"\"\"\n",
    "\n",
    "    x_s = point[1:]\n",
    "    y = point[0]\n",
    "    return y - (sum(m * x_s) + b) # epsilon, based on formula above for multiple predictors, need to use @\n",
    "\n",
    "def step_gradient_multi(b_current, m_current, points, eta=0.1):\n",
    "    \"\"\"\n",
    "    :param b_current: \n",
    "    :param m_current: slopes of features; this is an array/vector\n",
    "    :param points: \n",
    "    :return: \n",
    "    \"\"\"\n",
    "\n",
    "    grad_J_wrt_b = 0\n",
    "    grad_J_wrt_m = 0\n",
    "    n = len(points)\n",
    "    \n",
    "    for point in points:\n",
    "        epsilon_at_point = error_at_multi(point, b_current, m_current) # y - y_hat = y - (mx + b)\n",
    "        grad_J_wrt_b += -epsilon_at_point/n\n",
    "        x_s = point[1:]\n",
    "        grad_J_wrt_m += -(x_s*epsilon_at_point)/n\n",
    "    \n",
    "    return (b_current-eta*grad_J_wrt_b, m_current-eta*grad_J_wrt_m)"
   ]
  },
  {
   "cell_type": "markdown",
   "metadata": {},
   "source": [
    "Apply 1 step to our data"
   ]
  },
  {
   "cell_type": "code",
   "execution_count": 12,
   "metadata": {
    "collapsed": true,
    "pycharm": {
     "is_executing": false
    }
   },
   "outputs": [
    {
     "output_type": "execute_result",
     "data": {
      "text/plain": "(0.13965491088061555, array([0.093847, 0.038762]))"
     },
     "metadata": {},
     "execution_count": 12
    }
   ],
   "source": [
    "gradient_iteration = []\n",
    "gradient_iteration.append(step_gradient_multi(0, np.array([0,0]), data))\n",
    "gradient_iteration[0]"
   ]
  },
  {
   "cell_type": "markdown",
   "metadata": {},
   "source": [
    "Apply 500 steps to our data"
   ]
  },
  {
   "cell_type": "code",
   "execution_count": 13,
   "metadata": {
    "collapsed": true,
    "pycharm": {
     "is_executing": false
    }
   },
   "outputs": [],
   "source": [
    "gradient_iteration = []\n",
    "gradient_iteration.append((0, np.array([0,0])))\n",
    "for i in range(500):\n",
    "    gradient_iteration.append(\n",
    "        step_gradient_multi(\n",
    "            gradient_iteration[i][0], \n",
    "            gradient_iteration[i][1], \n",
    "            data\n",
    "        )\n",
    "    )"
   ]
  },
  {
   "cell_type": "markdown",
   "metadata": {},
   "source": [
    "Look at the last step"
   ]
  },
  {
   "cell_type": "code",
   "execution_count": 14,
   "metadata": {
    "pycharm": {
     "is_executing": false
    }
   },
   "outputs": [
    {
     "output_type": "execute_result",
     "data": {
      "text/plain": "(1.944428332442866, array([2.995890, -3.911055]))"
     },
     "metadata": {},
     "execution_count": 14
    }
   ],
   "source": [
    "gradient_iteration[-1]"
   ]
  },
  {
   "cell_type": "markdown",
   "metadata": {},
   "source": [
    "## Level up - optional\n",
    "\n",
    "Try your own gradient descent algorithm on the Boston Housing data set, and compare with the result from scikit learn!\n",
    "Be careful to test on a few continuous variables at first, and see how you perform. Scikit learn has built-in \"regularization\" parameters to make optimization more feasible for many parameters.\n",
    "\n",
    "## Summary\n",
    "\n",
    "In this section, we saw our gradient descent formulas in action.  The core of the gradient descent functions is understanding the two lines: \n",
    "\n",
    "$$ \\frac{dJ}{dm}J(m,b) = -2\\sum_{i = 1}^n x(y_i - (mx_i + b)) = -2\\sum_{i = 1}^n x_i*\\epsilon_i$$\n",
    "$$ \\frac{dJ}{db}J(m,b) = -2\\sum_{i = 1}^n(y_i - (mx_i + b)) = -2\\sum_{i = 1}^n \\epsilon_i $$\n",
    "    \n",
    "Which both look to the errors of the current regression line for our dataset to determine how to update the regression line next.  These formulas came from our cost function, $J(m,b) = \\sum_{i = 1}^n(y_i - (mx_i + b))^2 $, and using the gradient to find the direction of steepest descent.  Translating this into code, and seeing how the regression line continued to improve in alignment with the data, we saw the effectiveness of this technique in practice. Additionally, we saw how you can extend the gradient descent algorithm to multiple predictors."
   ]
  }
 ],
 "metadata": {
  "kernelspec": {
   "name": "python37664bitlearnenvconda70f0b4d48d474c1cba77a4611cdb5f3c",
   "language": "python",
   "display_name": "Python 3.7.6 64-bit ('learn-env': conda)"
  },
  "language_info": {
   "codemirror_mode": {
    "name": "ipython",
    "version": 3
   },
   "file_extension": ".py",
   "mimetype": "text/x-python",
   "name": "python",
   "nbconvert_exporter": "python",
   "pygments_lexer": "ipython3",
   "version": "3.7.6-final"
  },
  "pycharm": {
   "stem_cell": {
    "cell_type": "raw",
    "source": [],
    "metadata": {
     "collapsed": false
    }
   }
  }
 },
 "nbformat": 4,
 "nbformat_minor": 2
}